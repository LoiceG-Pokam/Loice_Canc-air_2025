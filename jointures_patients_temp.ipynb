{
 "cells": [
  {
   "cell_type": "code",
   "execution_count": 41,
   "id": "c385ced1",
   "metadata": {},
   "outputs": [],
   "source": [
    "import pandas as pd\n",
    "import numpy as np\n",
    "import geopandas as gpd\n",
    "import matplotlib.pyplot as plt\n",
    "import glob\n",
    "import os\n",
    "import rasterio\n",
    "from rasterio.transform import from_origin\n",
    "from scipy.interpolate import griddata\n",
    "import rasterio\n",
    "from rasterio.transform import from_origin\n",
    "from pyproj import Transformer\n",
    "from tqdm import tqdm\n"
   ]
  },
  {
   "cell_type": "code",
   "execution_count": 19,
   "id": "ad1b59a8",
   "metadata": {},
   "outputs": [],
   "source": [
    "#chargement des donnees de temperatures en ile de france\n",
    "\n",
    "df_temp_77 = pd.read_csv('data/data_temp/Q_75_previous-1950-2023_RR-T-Vent.csv', usecols=[\"NUM_POSTE\", \"NOM_USUEL\", \"AAAAMMJJ\", \"LAT\", \"LON\", \"TNTXM\"], sep=\";\")\n",
    "df_temp_78 = pd.read_csv('data/data_temp/Q_78_previous-1950-2023_RR-T-Vent.csv', usecols=[\"NUM_POSTE\", \"NOM_USUEL\", \"AAAAMMJJ\", \"LAT\", \"LON\", \"TNTXM\"], sep=\";\")\n",
    "df_temp_75 = pd.read_csv('data/data_temp/Q_75_previous-1950-2023_RR-T-Vent.csv', usecols=[\"NUM_POSTE\", \"NOM_USUEL\", \"AAAAMMJJ\", \"LAT\", \"LON\", \"TNTXM\"], sep=\";\")\n",
    "df_temp_91 = pd.read_csv('data/data_temp/Q_91_previous-1950-2023_RR-T-Vent.csv', usecols=[\"NUM_POSTE\", \"NOM_USUEL\", \"AAAAMMJJ\", \"LAT\", \"LON\", \"TNTXM\"], sep=\";\")\n",
    "df_temp_92 = pd.read_csv('data/data_temp/Q_92_previous-1950-2023_RR-T-Vent.csv', usecols=[\"NUM_POSTE\", \"NOM_USUEL\", \"AAAAMMJJ\", \"LAT\", \"LON\", \"TNTXM\"], sep=\";\")\n",
    "df_temp_93 = pd.read_csv('data/data_temp/Q_93_previous-1950-2023_RR-T-Vent.csv', usecols=[\"NUM_POSTE\", \"NOM_USUEL\", \"AAAAMMJJ\", \"LAT\", \"LON\", \"TNTXM\"], sep=\";\")\n",
    "df_temp_94 = pd.read_csv('data/data_temp/Q_94_previous-1950-2023_RR-T-Vent.csv', usecols=[\"NUM_POSTE\", \"NOM_USUEL\", \"AAAAMMJJ\", \"LAT\", \"LON\", \"TNTXM\"], sep=\";\")\n",
    "df_temp_95 = pd.read_csv('data/data_temp/Q_95_previous-1950-2023_RR-T-Vent.csv', usecols=[\"NUM_POSTE\", \"NOM_USUEL\", \"AAAAMMJJ\", \"LAT\", \"LON\", \"TNTXM\"], sep=\";\")"
   ]
  },
  {
   "cell_type": "code",
   "execution_count": 51,
   "id": "10972322",
   "metadata": {},
   "outputs": [],
   "source": [
    "df_temp = pd.concat([df_temp_77, df_temp_78, df_temp_75, df_temp_91, df_temp_92, df_temp_93, df_temp_94, df_temp_95], ignore_index=True)\n",
    "df_temp = df_temp.rename(columns={\"NUM_POSTE\": \"id\", \"NOM_USUEL\": \"nom\", \"AAAAMMJJ\": \"date\", \"LAT\": \"latitude\", \"LON\": \"longitude\", \"TNTXM\": \"temperature\"})"
   ]
  },
  {
   "cell_type": "code",
   "execution_count": 52,
   "id": "61b4f444",
   "metadata": {},
   "outputs": [],
   "source": [
    "df_temp[\"date\"] = pd.to_datetime(df_temp['date'], format='%Y%m%d')\n",
    "df_temp = df_temp[df_temp[\"date\"].dt.year.isin([2019,2018,2019,2020])]"
   ]
  },
  {
   "cell_type": "code",
   "execution_count": 53,
   "id": "c063e953",
   "metadata": {},
   "outputs": [
    {
     "data": {
      "application/vnd.microsoft.datawrangler.viewer.v0+json": {
       "columns": [
        {
         "name": "index",
         "rawType": "int64",
         "type": "integer"
        },
        {
         "name": "id",
         "rawType": "int64",
         "type": "integer"
        },
        {
         "name": "nom",
         "rawType": "object",
         "type": "string"
        },
        {
         "name": "latitude",
         "rawType": "float64",
         "type": "float"
        },
        {
         "name": "longitude",
         "rawType": "float64",
         "type": "float"
        },
        {
         "name": "date",
         "rawType": "datetime64[ns]",
         "type": "datetime"
        },
        {
         "name": "temperature",
         "rawType": "float64",
         "type": "float"
        }
       ],
       "conversionMethod": "pd.DataFrame",
       "ref": "37d17f7f-22f7-447f-b7e7-f198d636484d",
       "rows": [
        [
         "55003",
         "75106001",
         "LUXEMBOURG",
         "48.844667",
         "2.333833",
         "2018-01-01 00:00:00",
         "7.4"
        ],
        [
         "55004",
         "75106001",
         "LUXEMBOURG",
         "48.844667",
         "2.333833",
         "2018-01-02 00:00:00",
         "9.0"
        ],
        [
         "55005",
         "75106001",
         "LUXEMBOURG",
         "48.844667",
         "2.333833",
         "2018-01-03 00:00:00",
         "8.0"
        ],
        [
         "55006",
         "75106001",
         "LUXEMBOURG",
         "48.844667",
         "2.333833",
         "2018-01-04 00:00:00",
         "10.5"
        ],
        [
         "55007",
         "75106001",
         "LUXEMBOURG",
         "48.844667",
         "2.333833",
         "2018-01-05 00:00:00",
         "8.5"
        ],
        [
         "55008",
         "75106001",
         "LUXEMBOURG",
         "48.844667",
         "2.333833",
         "2018-01-06 00:00:00",
         "6.5"
        ],
        [
         "55009",
         "75106001",
         "LUXEMBOURG",
         "48.844667",
         "2.333833",
         "2018-01-07 00:00:00",
         "5.5"
        ],
        [
         "55010",
         "75106001",
         "LUXEMBOURG",
         "48.844667",
         "2.333833",
         "2018-01-08 00:00:00",
         "7.0"
        ],
        [
         "55011",
         "75106001",
         "LUXEMBOURG",
         "48.844667",
         "2.333833",
         "2018-01-09 00:00:00",
         "6.0"
        ],
        [
         "55012",
         "75106001",
         "LUXEMBOURG",
         "48.844667",
         "2.333833",
         "2018-01-10 00:00:00",
         "8.5"
        ],
        [
         "55013",
         "75106001",
         "LUXEMBOURG",
         "48.844667",
         "2.333833",
         "2018-01-11 00:00:00",
         "7.0"
        ],
        [
         "55014",
         "75106001",
         "LUXEMBOURG",
         "48.844667",
         "2.333833",
         "2018-01-12 00:00:00",
         "6.0"
        ],
        [
         "55015",
         "75106001",
         "LUXEMBOURG",
         "48.844667",
         "2.333833",
         "2018-01-13 00:00:00",
         "5.0"
        ],
        [
         "55016",
         "75106001",
         "LUXEMBOURG",
         "48.844667",
         "2.333833",
         "2018-01-14 00:00:00",
         "5.5"
        ],
        [
         "55017",
         "75106001",
         "LUXEMBOURG",
         "48.844667",
         "2.333833",
         "2018-01-15 00:00:00",
         "7.0"
        ],
        [
         "55018",
         "75106001",
         "LUXEMBOURG",
         "48.844667",
         "2.333833",
         "2018-01-16 00:00:00",
         "8.5"
        ],
        [
         "55019",
         "75106001",
         "LUXEMBOURG",
         "48.844667",
         "2.333833",
         "2018-01-17 00:00:00",
         "6.5"
        ],
        [
         "55020",
         "75106001",
         "LUXEMBOURG",
         "48.844667",
         "2.333833",
         "2018-01-18 00:00:00",
         "9.0"
        ],
        [
         "55021",
         "75106001",
         "LUXEMBOURG",
         "48.844667",
         "2.333833",
         "2018-01-19 00:00:00",
         "6.0"
        ],
        [
         "55022",
         "75106001",
         "LUXEMBOURG",
         "48.844667",
         "2.333833",
         "2018-01-20 00:00:00",
         "7.5"
        ],
        [
         "55023",
         "75106001",
         "LUXEMBOURG",
         "48.844667",
         "2.333833",
         "2018-01-21 00:00:00",
         "9.0"
        ],
        [
         "55024",
         "75106001",
         "LUXEMBOURG",
         "48.844667",
         "2.333833",
         "2018-01-22 00:00:00",
         "10.5"
        ],
        [
         "55025",
         "75106001",
         "LUXEMBOURG",
         "48.844667",
         "2.333833",
         "2018-01-23 00:00:00",
         "9.5"
        ],
        [
         "55026",
         "75106001",
         "LUXEMBOURG",
         "48.844667",
         "2.333833",
         "2018-01-24 00:00:00",
         "12.0"
        ],
        [
         "55027",
         "75106001",
         "LUXEMBOURG",
         "48.844667",
         "2.333833",
         "2018-01-25 00:00:00",
         "7.5"
        ],
        [
         "55028",
         "75106001",
         "LUXEMBOURG",
         "48.844667",
         "2.333833",
         "2018-01-26 00:00:00",
         "8.0"
        ],
        [
         "55029",
         "75106001",
         "LUXEMBOURG",
         "48.844667",
         "2.333833",
         "2018-01-27 00:00:00",
         "5.5"
        ],
        [
         "55030",
         "75106001",
         "LUXEMBOURG",
         "48.844667",
         "2.333833",
         "2018-01-28 00:00:00",
         "8.5"
        ],
        [
         "55031",
         "75106001",
         "LUXEMBOURG",
         "48.844667",
         "2.333833",
         "2018-01-29 00:00:00",
         "10.0"
        ],
        [
         "55032",
         "75106001",
         "LUXEMBOURG",
         "48.844667",
         "2.333833",
         "2018-01-30 00:00:00",
         "9.5"
        ],
        [
         "55033",
         "75106001",
         "LUXEMBOURG",
         "48.844667",
         "2.333833",
         "2018-01-31 00:00:00",
         "8.0"
        ],
        [
         "55034",
         "75106001",
         "LUXEMBOURG",
         "48.844667",
         "2.333833",
         "2018-02-01 00:00:00",
         "6.1"
        ],
        [
         "55035",
         "75106001",
         "LUXEMBOURG",
         "48.844667",
         "2.333833",
         "2018-02-02 00:00:00",
         "5.5"
        ],
        [
         "55036",
         "75106001",
         "LUXEMBOURG",
         "48.844667",
         "2.333833",
         "2018-02-03 00:00:00",
         "6.3"
        ],
        [
         "55037",
         "75106001",
         "LUXEMBOURG",
         "48.844667",
         "2.333833",
         "2018-02-04 00:00:00",
         "3.3"
        ],
        [
         "55038",
         "75106001",
         "LUXEMBOURG",
         "48.844667",
         "2.333833",
         "2018-02-05 00:00:00",
         "2.0"
        ],
        [
         "55039",
         "75106001",
         "LUXEMBOURG",
         "48.844667",
         "2.333833",
         "2018-02-06 00:00:00",
         "2.3"
        ],
        [
         "55040",
         "75106001",
         "LUXEMBOURG",
         "48.844667",
         "2.333833",
         "2018-02-07 00:00:00",
         "-0.6"
        ],
        [
         "55041",
         "75106001",
         "LUXEMBOURG",
         "48.844667",
         "2.333833",
         "2018-02-08 00:00:00",
         "1.0"
        ],
        [
         "55042",
         "75106001",
         "LUXEMBOURG",
         "48.844667",
         "2.333833",
         "2018-02-09 00:00:00",
         "-1.0"
        ],
        [
         "55043",
         "75106001",
         "LUXEMBOURG",
         "48.844667",
         "2.333833",
         "2018-02-10 00:00:00",
         "3.0"
        ],
        [
         "55044",
         "75106001",
         "LUXEMBOURG",
         "48.844667",
         "2.333833",
         "2018-02-11 00:00:00",
         "5.5"
        ],
        [
         "55045",
         "75106001",
         "LUXEMBOURG",
         "48.844667",
         "2.333833",
         "2018-02-12 00:00:00",
         "4.0"
        ],
        [
         "55046",
         "75106001",
         "LUXEMBOURG",
         "48.844667",
         "2.333833",
         "2018-02-13 00:00:00",
         "1.5"
        ],
        [
         "55047",
         "75106001",
         "LUXEMBOURG",
         "48.844667",
         "2.333833",
         "2018-02-14 00:00:00",
         "3.5"
        ],
        [
         "55048",
         "75106001",
         "LUXEMBOURG",
         "48.844667",
         "2.333833",
         "2018-02-15 00:00:00",
         "8.0"
        ],
        [
         "55049",
         "75106001",
         "LUXEMBOURG",
         "48.844667",
         "2.333833",
         "2018-02-16 00:00:00",
         "7.0"
        ],
        [
         "55050",
         "75106001",
         "LUXEMBOURG",
         "48.844667",
         "2.333833",
         "2018-02-17 00:00:00",
         "7.0"
        ],
        [
         "55051",
         "75106001",
         "LUXEMBOURG",
         "48.844667",
         "2.333833",
         "2018-02-18 00:00:00",
         "4.5"
        ],
        [
         "55052",
         "75106001",
         "LUXEMBOURG",
         "48.844667",
         "2.333833",
         "2018-02-19 00:00:00",
         "3.5"
        ]
       ],
       "shape": {
        "columns": 6,
        "rows": 87749
       }
      },
      "text/html": [
       "<div>\n",
       "<style scoped>\n",
       "    .dataframe tbody tr th:only-of-type {\n",
       "        vertical-align: middle;\n",
       "    }\n",
       "\n",
       "    .dataframe tbody tr th {\n",
       "        vertical-align: top;\n",
       "    }\n",
       "\n",
       "    .dataframe thead th {\n",
       "        text-align: right;\n",
       "    }\n",
       "</style>\n",
       "<table border=\"1\" class=\"dataframe\">\n",
       "  <thead>\n",
       "    <tr style=\"text-align: right;\">\n",
       "      <th></th>\n",
       "      <th>id</th>\n",
       "      <th>nom</th>\n",
       "      <th>latitude</th>\n",
       "      <th>longitude</th>\n",
       "      <th>date</th>\n",
       "      <th>temperature</th>\n",
       "    </tr>\n",
       "  </thead>\n",
       "  <tbody>\n",
       "    <tr>\n",
       "      <th>55003</th>\n",
       "      <td>75106001</td>\n",
       "      <td>LUXEMBOURG</td>\n",
       "      <td>48.844667</td>\n",
       "      <td>2.333833</td>\n",
       "      <td>2018-01-01</td>\n",
       "      <td>7.4</td>\n",
       "    </tr>\n",
       "    <tr>\n",
       "      <th>55004</th>\n",
       "      <td>75106001</td>\n",
       "      <td>LUXEMBOURG</td>\n",
       "      <td>48.844667</td>\n",
       "      <td>2.333833</td>\n",
       "      <td>2018-01-02</td>\n",
       "      <td>9.0</td>\n",
       "    </tr>\n",
       "    <tr>\n",
       "      <th>55005</th>\n",
       "      <td>75106001</td>\n",
       "      <td>LUXEMBOURG</td>\n",
       "      <td>48.844667</td>\n",
       "      <td>2.333833</td>\n",
       "      <td>2018-01-03</td>\n",
       "      <td>8.0</td>\n",
       "    </tr>\n",
       "    <tr>\n",
       "      <th>55006</th>\n",
       "      <td>75106001</td>\n",
       "      <td>LUXEMBOURG</td>\n",
       "      <td>48.844667</td>\n",
       "      <td>2.333833</td>\n",
       "      <td>2018-01-04</td>\n",
       "      <td>10.5</td>\n",
       "    </tr>\n",
       "    <tr>\n",
       "      <th>55007</th>\n",
       "      <td>75106001</td>\n",
       "      <td>LUXEMBOURG</td>\n",
       "      <td>48.844667</td>\n",
       "      <td>2.333833</td>\n",
       "      <td>2018-01-05</td>\n",
       "      <td>8.5</td>\n",
       "    </tr>\n",
       "    <tr>\n",
       "      <th>...</th>\n",
       "      <td>...</td>\n",
       "      <td>...</td>\n",
       "      <td>...</td>\n",
       "      <td>...</td>\n",
       "      <td>...</td>\n",
       "      <td>...</td>\n",
       "    </tr>\n",
       "    <tr>\n",
       "      <th>3067433</th>\n",
       "      <td>95690001</td>\n",
       "      <td>WY-DIT</td>\n",
       "      <td>49.108167</td>\n",
       "      <td>1.830667</td>\n",
       "      <td>2020-12-27</td>\n",
       "      <td>5.9</td>\n",
       "    </tr>\n",
       "    <tr>\n",
       "      <th>3067434</th>\n",
       "      <td>95690001</td>\n",
       "      <td>WY-DIT</td>\n",
       "      <td>49.108167</td>\n",
       "      <td>1.830667</td>\n",
       "      <td>2020-12-28</td>\n",
       "      <td>2.4</td>\n",
       "    </tr>\n",
       "    <tr>\n",
       "      <th>3067435</th>\n",
       "      <td>95690001</td>\n",
       "      <td>WY-DIT</td>\n",
       "      <td>49.108167</td>\n",
       "      <td>1.830667</td>\n",
       "      <td>2020-12-29</td>\n",
       "      <td>2.5</td>\n",
       "    </tr>\n",
       "    <tr>\n",
       "      <th>3067436</th>\n",
       "      <td>95690001</td>\n",
       "      <td>WY-DIT</td>\n",
       "      <td>49.108167</td>\n",
       "      <td>1.830667</td>\n",
       "      <td>2020-12-30</td>\n",
       "      <td>3.0</td>\n",
       "    </tr>\n",
       "    <tr>\n",
       "      <th>3067437</th>\n",
       "      <td>95690001</td>\n",
       "      <td>WY-DIT</td>\n",
       "      <td>49.108167</td>\n",
       "      <td>1.830667</td>\n",
       "      <td>2020-12-31</td>\n",
       "      <td>2.6</td>\n",
       "    </tr>\n",
       "  </tbody>\n",
       "</table>\n",
       "<p>87749 rows × 6 columns</p>\n",
       "</div>"
      ],
      "text/plain": [
       "               id         nom   latitude  longitude       date  temperature\n",
       "55003    75106001  LUXEMBOURG  48.844667   2.333833 2018-01-01          7.4\n",
       "55004    75106001  LUXEMBOURG  48.844667   2.333833 2018-01-02          9.0\n",
       "55005    75106001  LUXEMBOURG  48.844667   2.333833 2018-01-03          8.0\n",
       "55006    75106001  LUXEMBOURG  48.844667   2.333833 2018-01-04         10.5\n",
       "55007    75106001  LUXEMBOURG  48.844667   2.333833 2018-01-05          8.5\n",
       "...           ...         ...        ...        ...        ...          ...\n",
       "3067433  95690001      WY-DIT  49.108167   1.830667 2020-12-27          5.9\n",
       "3067434  95690001      WY-DIT  49.108167   1.830667 2020-12-28          2.4\n",
       "3067435  95690001      WY-DIT  49.108167   1.830667 2020-12-29          2.5\n",
       "3067436  95690001      WY-DIT  49.108167   1.830667 2020-12-30          3.0\n",
       "3067437  95690001      WY-DIT  49.108167   1.830667 2020-12-31          2.6\n",
       "\n",
       "[87749 rows x 6 columns]"
      ]
     },
     "execution_count": 53,
     "metadata": {},
     "output_type": "execute_result"
    }
   ],
   "source": [
    "df_temp"
   ]
  },
  {
   "cell_type": "code",
   "execution_count": 32,
   "id": "a58409f6",
   "metadata": {},
   "outputs": [],
   "source": [
    "# Save the DataFrame to a CSV file\n",
    "df_temp.to_csv('data/data_temp/temperature_ile_de_france.csv', sep=\";\", index=False)"
   ]
  },
  {
   "cell_type": "code",
   "execution_count": 43,
   "id": "74b7bc47",
   "metadata": {},
   "outputs": [
    {
     "data": {
      "text/plain": [
       "<DatetimeArray>\n",
       "['2018-01-01 00:00:00', '2018-01-02 00:00:00', '2018-01-03 00:00:00',\n",
       " '2018-01-04 00:00:00', '2018-01-05 00:00:00', '2018-01-06 00:00:00',\n",
       " '2018-01-07 00:00:00', '2018-01-08 00:00:00', '2018-01-09 00:00:00',\n",
       " '2018-01-10 00:00:00',\n",
       " ...\n",
       " '2020-12-22 00:00:00', '2020-12-23 00:00:00', '2020-12-24 00:00:00',\n",
       " '2020-12-25 00:00:00', '2020-12-26 00:00:00', '2020-12-27 00:00:00',\n",
       " '2020-12-28 00:00:00', '2020-12-29 00:00:00', '2020-12-30 00:00:00',\n",
       " '2020-12-31 00:00:00']\n",
       "Length: 1096, dtype: datetime64[ns]"
      ]
     },
     "execution_count": 43,
     "metadata": {},
     "output_type": "execute_result"
    }
   ],
   "source": [
    "df_temp.date.unique()"
   ]
  },
  {
   "cell_type": "code",
   "execution_count": 49,
   "id": "e207b504",
   "metadata": {},
   "outputs": [
    {
     "name": "stdout",
     "output_type": "stream",
     "text": [
      "count    49634.000000\n",
      "mean        13.014750\n",
      "std          6.629505\n",
      "min         -6.700000\n",
      "25%          8.000000\n",
      "50%         12.500000\n",
      "75%         18.300000\n",
      "max         35.000000\n",
      "Name: temperature, dtype: float64\n",
      "Empty DataFrame\n",
      "Columns: [id, nom, latitude, longitude, date, temperature, x, y]\n",
      "Index: []\n"
     ]
    }
   ],
   "source": [
    "print(df_temp['temperature'].describe())\n",
    "print(df_temp[df_temp['temperature'] > 60])  # Par exemple, détecter valeurs absurdes\n"
   ]
  },
  {
   "cell_type": "code",
   "execution_count": null,
   "id": "9923ad02",
   "metadata": {},
   "outputs": [],
   "source": [
    "df_temp.to_csv('data/data_temp/temperature_ile_de_france.csv', sep=\";\", index=False)"
   ]
  },
  {
   "cell_type": "code",
   "execution_count": 60,
   "id": "63104816",
   "metadata": {},
   "outputs": [
    {
     "name": "stderr",
     "output_type": "stream",
     "text": [
      "C:\\Users\\lpokambo\\AppData\\Local\\Temp\\ipykernel_20196\\2786655225.py:19: SettingWithCopyWarning: \n",
      "A value is trying to be set on a copy of a slice from a DataFrame.\n",
      "Try using .loc[row_indexer,col_indexer] = value instead\n",
      "\n",
      "See the caveats in the documentation: https://pandas.pydata.org/pandas-docs/stable/user_guide/indexing.html#returning-a-view-versus-a-copy\n",
      "  df[['x', 'y']] = df.apply(lambda row: pd.Series(transformer.transform(row['longitude'], row['latitude'])), axis=1)\n",
      "Traitement : 2018-04-10:   9%|▉         | 99/1096 [21:27<3:36:07, 13.01s/it]\n"
     ]
    },
    {
     "ename": "RasterioIOError",
     "evalue": "Attempt to create new tiff file 'rasters_temporels/temp_2018-04-10.tif' failed: No space left on device",
     "output_type": "error",
     "traceback": [
      "\u001b[1;31m---------------------------------------------------------------------------\u001b[0m",
      "\u001b[1;31mCPLE_OpenFailedError\u001b[0m                      Traceback (most recent call last)",
      "File \u001b[1;32mrasterio\\\\_io.pyx:1530\u001b[0m, in \u001b[0;36mrasterio._io.DatasetWriterBase.__init__\u001b[1;34m()\u001b[0m\n",
      "File \u001b[1;32mrasterio\\\\_err.pyx:359\u001b[0m, in \u001b[0;36mrasterio._err.exc_wrap_pointer\u001b[1;34m()\u001b[0m\n",
      "\u001b[1;31mCPLE_OpenFailedError\u001b[0m: Attempt to create new tiff file 'rasters_temporels/temp_2018-04-10.tif' failed: No space left on device",
      "\nDuring handling of the above exception, another exception occurred:\n",
      "\u001b[1;31mRasterioIOError\u001b[0m                           Traceback (most recent call last)",
      "Cell \u001b[1;32mIn[60], line 90\u001b[0m\n\u001b[0;32m     83\u001b[0m     out_meta\u001b[38;5;241m.\u001b[39mupdate({\n\u001b[0;32m     84\u001b[0m         \u001b[38;5;124m\"\u001b[39m\u001b[38;5;124mheight\u001b[39m\u001b[38;5;124m\"\u001b[39m: out_image\u001b[38;5;241m.\u001b[39mshape[\u001b[38;5;241m1\u001b[39m],\n\u001b[0;32m     85\u001b[0m         \u001b[38;5;124m\"\u001b[39m\u001b[38;5;124mwidth\u001b[39m\u001b[38;5;124m\"\u001b[39m: out_image\u001b[38;5;241m.\u001b[39mshape[\u001b[38;5;241m2\u001b[39m],\n\u001b[0;32m     86\u001b[0m         \u001b[38;5;124m\"\u001b[39m\u001b[38;5;124mtransform\u001b[39m\u001b[38;5;124m\"\u001b[39m: out_transform\n\u001b[0;32m     87\u001b[0m     })\n\u001b[0;32m     89\u001b[0m \u001b[38;5;66;03m# 💾 Raster final masqué\u001b[39;00m\n\u001b[1;32m---> 90\u001b[0m \u001b[38;5;28;01mwith\u001b[39;00m rasterio\u001b[38;5;241m.\u001b[39mopen(out_path, \u001b[38;5;124m\"\u001b[39m\u001b[38;5;124mw\u001b[39m\u001b[38;5;124m\"\u001b[39m, \u001b[38;5;241m*\u001b[39m\u001b[38;5;241m*\u001b[39mout_meta) \u001b[38;5;28;01mas\u001b[39;00m dest:\n\u001b[0;32m     91\u001b[0m     dest\u001b[38;5;241m.\u001b[39mwrite(out_image)\n\u001b[0;32m     93\u001b[0m os\u001b[38;5;241m.\u001b[39mremove(tmp_path)  \u001b[38;5;66;03m# Nettoyage\u001b[39;00m\n",
      "File \u001b[1;32mc:\\ProgramData\\anaconda3\\Lib\\site-packages\\rasterio\\env.py:463\u001b[0m, in \u001b[0;36mensure_env_with_credentials.<locals>.wrapper\u001b[1;34m(*args, **kwds)\u001b[0m\n\u001b[0;32m    460\u001b[0m     session \u001b[38;5;241m=\u001b[39m DummySession()\n\u001b[0;32m    462\u001b[0m \u001b[38;5;28;01mwith\u001b[39;00m env_ctor(session\u001b[38;5;241m=\u001b[39msession):\n\u001b[1;32m--> 463\u001b[0m     \u001b[38;5;28;01mreturn\u001b[39;00m f(\u001b[38;5;241m*\u001b[39margs, \u001b[38;5;241m*\u001b[39m\u001b[38;5;241m*\u001b[39mkwds)\n",
      "File \u001b[1;32mc:\\ProgramData\\anaconda3\\Lib\\site-packages\\rasterio\\__init__.py:378\u001b[0m, in \u001b[0;36mopen\u001b[1;34m(fp, mode, driver, width, height, count, crs, transform, dtype, nodata, sharing, opener, **kwargs)\u001b[0m\n\u001b[0;32m    376\u001b[0m writer \u001b[38;5;241m=\u001b[39m get_writer_for_driver(driver)\n\u001b[0;32m    377\u001b[0m \u001b[38;5;28;01mif\u001b[39;00m writer \u001b[38;5;129;01mis\u001b[39;00m \u001b[38;5;129;01mnot\u001b[39;00m \u001b[38;5;28;01mNone\u001b[39;00m:\n\u001b[1;32m--> 378\u001b[0m     dataset \u001b[38;5;241m=\u001b[39m writer(\n\u001b[0;32m    379\u001b[0m         path,\n\u001b[0;32m    380\u001b[0m         mode,\n\u001b[0;32m    381\u001b[0m         driver\u001b[38;5;241m=\u001b[39mdriver,\n\u001b[0;32m    382\u001b[0m         width\u001b[38;5;241m=\u001b[39mwidth,\n\u001b[0;32m    383\u001b[0m         height\u001b[38;5;241m=\u001b[39mheight,\n\u001b[0;32m    384\u001b[0m         count\u001b[38;5;241m=\u001b[39mcount,\n\u001b[0;32m    385\u001b[0m         crs\u001b[38;5;241m=\u001b[39mcrs,\n\u001b[0;32m    386\u001b[0m         transform\u001b[38;5;241m=\u001b[39mtransform,\n\u001b[0;32m    387\u001b[0m         dtype\u001b[38;5;241m=\u001b[39mdtype,\n\u001b[0;32m    388\u001b[0m         nodata\u001b[38;5;241m=\u001b[39mnodata,\n\u001b[0;32m    389\u001b[0m         sharing\u001b[38;5;241m=\u001b[39msharing,\n\u001b[0;32m    390\u001b[0m         \u001b[38;5;241m*\u001b[39m\u001b[38;5;241m*\u001b[39mkwargs\n\u001b[0;32m    391\u001b[0m     )\n\u001b[0;32m    392\u001b[0m \u001b[38;5;28;01melse\u001b[39;00m:\n\u001b[0;32m    393\u001b[0m     \u001b[38;5;28;01mraise\u001b[39;00m DriverCapabilityError(\n\u001b[0;32m    394\u001b[0m         \u001b[38;5;124m\"\u001b[39m\u001b[38;5;124mWriter does not exist for driver: \u001b[39m\u001b[38;5;132;01m%s\u001b[39;00m\u001b[38;5;124m\"\u001b[39m \u001b[38;5;241m%\u001b[39m \u001b[38;5;28mstr\u001b[39m(driver)\n\u001b[0;32m    395\u001b[0m     )\n",
      "File \u001b[1;32mrasterio\\\\_io.pyx:1542\u001b[0m, in \u001b[0;36mrasterio._io.DatasetWriterBase.__init__\u001b[1;34m()\u001b[0m\n",
      "\u001b[1;31mRasterioIOError\u001b[0m: Attempt to create new tiff file 'rasters_temporels/temp_2018-04-10.tif' failed: No space left on device"
     ]
    }
   ],
   "source": [
    "import pandas as pd\n",
    "import numpy as np\n",
    "from scipy.interpolate import griddata\n",
    "import rasterio\n",
    "from rasterio.transform import from_origin\n",
    "from rasterio.mask import mask\n",
    "import geopandas as gpd\n",
    "import os\n",
    "from tqdm import tqdm\n",
    "from pyproj import Transformer\n",
    "from shapely.geometry import mapping\n",
    "\n",
    "#  Charger les données\n",
    "\n",
    "df = df_temp[(df_temp['temperature'] > -25) & (df_temp['temperature'] < 60)]\n",
    "\n",
    "#  Reprojection EPSG:4326 → EPSG:2154\n",
    "transformer = Transformer.from_crs(\"EPSG:4326\", \"EPSG:2154\", always_xy=True)\n",
    "df[['x', 'y']] = df.apply(lambda row: pd.Series(transformer.transform(row['longitude'], row['latitude'])), axis=1)\n",
    "\n",
    "#  Charger le shapefile de l’Île-de-France en EPSG:2154\n",
    "gdf = gpd.read_file(\"data/shapefile/IDF.shp\").to_crs(\"EPSG:2154\")\n",
    "idf_geom = [mapping(geom) for geom in gdf.geometry]\n",
    "\n",
    "#  Créer le dossier\n",
    "os.makedirs(\"rasters_temporels\", exist_ok=True)\n",
    "\n",
    "#  Grille 50 m\n",
    "res = 50\n",
    "x_min, y_min, x_max, y_max = gdf.total_bounds\n",
    "\n",
    "grid_x, grid_y = np.meshgrid(\n",
    "    np.arange(x_min, x_max, res),\n",
    "    np.arange(y_min, y_max, res)\n",
    ")\n",
    "\n",
    "#  Dates uniques\n",
    "unique_dates = sorted(df['date'].dt.date.unique())\n",
    "\n",
    "#  NODATA\n",
    "nodata_value = -9999\n",
    "\n",
    "#  Interpolation + masque\n",
    "with tqdm(total=len(unique_dates), desc=\"Interpolation avec masque IDF\") as pbar:\n",
    "    for date in unique_dates:\n",
    "        pbar.set_description_str(f\"Traitement : {date}\")\n",
    "        df_day = df[df['date'].dt.date == date]\n",
    "        if len(df_day) < 5:\n",
    "            pbar.update(1)\n",
    "            continue\n",
    "\n",
    "        points = df_day[['x', 'y']].values\n",
    "        values = df_day['temperature'].values\n",
    "        grid_temp = griddata(points, values, (grid_x, grid_y), method='linear')\n",
    "\n",
    "        if grid_temp is None:\n",
    "            pbar.update(1)\n",
    "            continue\n",
    "\n",
    "        grid_temp = np.where(np.isnan(grid_temp), nodata_value, grid_temp)\n",
    "        grid_temp = np.clip(grid_temp, -25, 60)\n",
    "\n",
    "        transform = from_origin(x_min, y_max, res, res)\n",
    "        tmp_path = f\"rasters_temporels/tmp_temp_{date}.tif\"\n",
    "        out_path = f\"rasters_temporels/temp_{date}.tif\"\n",
    "\n",
    "        # ➕ Sauvegarde temporaire non-masquée\n",
    "        with rasterio.open(tmp_path, \"w\",\n",
    "                           driver=\"GTiff\",\n",
    "                           height=grid_temp.shape[0],\n",
    "                           width=grid_temp.shape[1],\n",
    "                           count=1,\n",
    "                           dtype='float32',\n",
    "                           crs=\"EPSG:2154\",\n",
    "                           transform=transform,\n",
    "                           nodata=nodata_value) as dst:\n",
    "            dst.write(grid_temp.astype('float32'), 1)\n",
    "\n",
    "        # Appliquer le masque\n",
    "        with rasterio.open(tmp_path) as src:\n",
    "            out_image, out_transform = mask(src, idf_geom, crop=True, nodata=nodata_value)\n",
    "            out_meta = src.meta.copy()\n",
    "            out_meta.update({\n",
    "                \"height\": out_image.shape[1],\n",
    "                \"width\": out_image.shape[2],\n",
    "                \"transform\": out_transform\n",
    "            })\n",
    "\n",
    "        # 💾 Raster final masqué\n",
    "        with rasterio.open(out_path, \"w\", **out_meta) as dest:\n",
    "            dest.write(out_image)\n",
    "\n",
    "        os.remove(tmp_path)  # Nettoyage\n",
    "        pbar.update(1)\n"
   ]
  },
  {
   "cell_type": "code",
   "execution_count": null,
   "id": "ce5df40f",
   "metadata": {},
   "outputs": [
    {
     "name": "stderr",
     "output_type": "stream",
     "text": [
      "2025-05-23 09:06:33,035 INFO [2024-09-26T00:00:00] Watch our [Forum](https://forum.ecmwf.int/) for Announcements, news and other discussed topeaks.\n",
      "2025-05-23 09:06:33,036 WARNING [2024-06-16T00:00:00] CDS API syntax is changed and some keys or parameter names may have also changed. To avoid requests failing, please use the \"Show API request code\" tool on the dataset Download Form to check you are using the correct syntax for your API request.\n",
      "2025-05-23 09:06:33,215 INFO Request ID is 87ef9ce4-8e57-4a64-b058-889e17087461\n",
      "2025-05-23 09:06:33,298 INFO status has been updated to accepted\n",
      "2025-05-23 09:08:28,062 INFO status has been updated to successful\n"
     ]
    },
    {
     "data": {
      "application/vnd.jupyter.widget-view+json": {
       "model_id": "0f11603f82474607b867f58ca0685ff5",
       "version_major": 2,
       "version_minor": 0
      },
      "text/plain": [
       "74bb5466cea022df975b5da6191e745b.nc:   0%|          | 0.00/1.13M [00:00<?, ?B/s]"
      ]
     },
     "metadata": {},
     "output_type": "display_data"
    },
    {
     "data": {
      "text/plain": [
       "'output.grib'"
      ]
     },
     "execution_count": 4,
     "metadata": {},
     "output_type": "execute_result"
    }
   ],
   "source": [
    "import os\n",
    "os.environ['REQUESTS_CA_BUNDLE'] = 'H:/PFE Loice/Notebooks/zscaler_bundle.pem'  # adapte le chemin ici\n",
    "\n",
    "c = cdsapi.Client()\n",
    "\n",
    "import cdsapi\n",
    "\n",
    "\n",
    "dataset = \"reanalysis-era5-land\"  # Corrected dataset name\n",
    "request = {\n",
    "    \"product_type\": \"reanalysis\",  # Added product type\n",
    "    \"variable\": [\n",
    "        \"2m_temperature\",\n",
    "        \"soil_temperature_level_1\",\n",
    "        \"total_precipitation\"\n",
    "    ],\n",
    "    \"year\": \"2017\",\n",
    "    \"month\": \"01\",\n",
    "    \"day\": [\n",
    "        \"01\", \"02\", \"03\",\n",
    "        \"04\", \"05\", \"06\",\n",
    "        \"07\", \"08\", \"09\",\n",
    "        \"10\", \"11\", \"12\",\n",
    "        \"13\", \"14\", \"15\",\n",
    "        \"16\", \"17\", \"18\",\n",
    "        \"19\", \"20\", \"21\",\n",
    "        \"22\", \"23\", \"24\",\n",
    "        \"25\", \"26\", \"27\",\n",
    "        \"28\", \"29\", \"30\",\n",
    "        \"31\"\n",
    "    ],\n",
    "    \"time\": [\n",
    "        \"00:00\", \"01:00\", \"02:00\",\n",
    "        \"03:00\", \"04:00\", \"05:00\",\n",
    "        \"06:00\", \"07:00\", \"08:00\",\n",
    "        \"09:00\", \"10:00\", \"11:00\",\n",
    "        \"12:00\", \"13:00\", \"14:00\",\n",
    "        \"15:00\", \"16:00\", \"17:00\",\n",
    "        \"18:00\", \"19:00\", \"20:00\",\n",
    "        \"21:00\", \"22:00\", \"23:00\"\n",
    "    ],\n",
    "    \"format\": \"netcdf\",  # Corrected key from data_format to format\n",
    "    \"download_format\": \"unarchived\",\n",
    "    \"area\": [49.5, 1.5, 48, 3.5]\n",
    "}\n",
    "\n",
    "c.retrieve(dataset, request, \"output.grib\")  # Use the correct client object\n",
    "\n"
   ]
  },
  {
   "cell_type": "code",
   "execution_count": null,
   "id": "c3895ce1",
   "metadata": {},
   "outputs": [
    {
     "name": "stderr",
     "output_type": "stream",
     "text": [
      "2025-05-23 09:21:32,395 INFO [2024-09-26T00:00:00] Watch our [Forum](https://forum.ecmwf.int/) for Announcements, news and other discussed topeaks.\n",
      "2025-05-23 09:21:32,395 WARNING [2024-06-16T00:00:00] CDS API syntax is changed and some keys or parameter names may have also changed. To avoid requests failing, please use the \"Show API request code\" tool on the dataset Download Form to check you are using the correct syntax for your API request.\n"
     ]
    },
    {
     "name": "stdout",
     "output_type": "stream",
     "text": [
      "Téléchargement de era5_2017_01.nc en cours...\n"
     ]
    },
    {
     "name": "stderr",
     "output_type": "stream",
     "text": [
      "2025-05-23 09:21:32,656 INFO Request ID is 5201cf18-596a-4bef-a9a4-627c0d5451f2\n",
      "2025-05-23 09:21:32,742 INFO status has been updated to accepted\n",
      "2025-05-23 09:21:46,445 INFO status has been updated to running\n",
      "2025-05-23 09:29:52,372 INFO status has been updated to successful\n"
     ]
    },
    {
     "data": {
      "application/vnd.jupyter.widget-view+json": {
       "model_id": "56e7e5a8c3ae451980380c11fda16284",
       "version_major": 2,
       "version_minor": 0
      },
      "text/plain": [
       "d168ef53c1410d1fc782dad6ab94de1b.zip:   0%|          | 0.00/1.07M [00:00<?, ?B/s]"
      ]
     },
     "metadata": {},
     "output_type": "display_data"
    },
    {
     "name": "stdout",
     "output_type": "stream",
     "text": [
      "Téléchargement de era5_2017_02.nc en cours...\n"
     ]
    },
    {
     "name": "stderr",
     "output_type": "stream",
     "text": [
      "2025-05-23 09:29:54,211 INFO Request ID is d5e4e50f-b141-4f46-95ec-1416b415b21b\n",
      "2025-05-23 09:29:54,328 INFO status has been updated to accepted\n",
      "2025-05-23 09:30:27,577 INFO status has been updated to running\n"
     ]
    }
   ],
   "source": [
    "import os\n",
    "import cdsapi\n",
    "\n",
    "os.environ['REQUESTS_CA_BUNDLE'] = 'H:/PFE Loice/Notebooks/zscaler_bundle.pem'\n",
    "\n",
    "c = cdsapi.Client()\n",
    "\n",
    "years = [\"2017\", \"2018\", \"2019\"]\n",
    "months = [f\"{m:02d}\" for m in range(1, 13)]\n",
    "days = [f\"{d:02d}\" for d in range(1, 32)]  # Tous les jours (on filtrera les erreurs)\n",
    "hours = [f\"{h:02d}:00\" for h in range(24)]\n",
    "\n",
    "for year in years:\n",
    "    for month in months:\n",
    "        # Créer un nom de fichier unique par mois\n",
    "        target_file = f\"era5_{year}_{month}.nc\"\n",
    "\n",
    "        print(f\"Téléchargement de {target_file} en cours...\")\n",
    "\n",
    "        try:\n",
    "            c.retrieve(\n",
    "                \"reanalysis-era5-land\",\n",
    "                {\n",
    "                    \"product_type\": \"reanalysis\",\n",
    "                    \"variable\": [\n",
    "                        \"2m_temperature\",\n",
    "                        \"skin_temperature\",\n",
    "                        \"surface_net_solar_radiation\"\n",
    "                    ],\n",
    "                    \"year\": year,\n",
    "                    \"month\": month,\n",
    "                    \"day\": days,  # Certains mois n'ont pas 31 jours, ERA5 ignore automatiquement les dates invalides\n",
    "                    \"time\": hours,\n",
    "                    \"format\": \"netcdf\",\n",
    "                    \"area\": [49.5, 1.5, 48, 3.5]\n",
    "                },\n",
    "                target_file\n",
    "            )\n",
    "        except Exception as e:\n",
    "            print(f\"Erreur pour {year}-{month} : {e}\")\n"
   ]
  },
  {
   "cell_type": "code",
   "execution_count": 2,
   "id": "f7f65b37",
   "metadata": {},
   "outputs": [
    {
     "name": "stderr",
     "output_type": "stream",
     "text": [
      "2025-05-23 09:49:26,414 INFO [2024-09-26T00:00:00] Watch our [Forum](https://forum.ecmwf.int/) for Announcements, news and other discussed topeaks.\n",
      "2025-05-23 09:49:26,414 WARNING [2024-06-16T00:00:00] CDS API syntax is changed and some keys or parameter names may have also changed. To avoid requests failing, please use the \"Show API request code\" tool on the dataset Download Form to check you are using the correct syntax for your API request.\n"
     ]
    },
    {
     "name": "stdout",
     "output_type": "stream",
     "text": [
      "Téléchargement : era5_land_2017_01.nc ...\n"
     ]
    },
    {
     "name": "stderr",
     "output_type": "stream",
     "text": [
      "2025-05-23 09:49:26,812 INFO Request ID is 31b810c4-baf3-4527-94ed-b9bd810eb4a3\n",
      "2025-05-23 09:49:26,893 INFO status has been updated to accepted\n",
      "2025-05-23 09:53:45,722 INFO status has been updated to running\n",
      "2025-05-23 09:59:46,581 INFO status has been updated to successful\n"
     ]
    },
    {
     "data": {
      "application/vnd.jupyter.widget-view+json": {
       "model_id": "7b817c1561ca458eb664f9b1cb8f23c0",
       "version_major": 2,
       "version_minor": 0
      },
      "text/plain": [
       "58342ac897e3f9cc4be24d251c60b078.nc:   0%|          | 0.00/1.07M [00:00<?, ?B/s]"
      ]
     },
     "metadata": {},
     "output_type": "display_data"
    },
    {
     "name": "stdout",
     "output_type": "stream",
     "text": [
      "Téléchargement : era5_land_2017_02.nc ...\n"
     ]
    },
    {
     "name": "stderr",
     "output_type": "stream",
     "text": [
      "2025-05-23 09:59:48,702 INFO Request ID is 49f47cc5-e391-41bb-93f4-cd3041cdf577\n",
      "2025-05-23 09:59:48,780 INFO status has been updated to accepted\n",
      "2025-05-23 10:00:21,633 INFO status has been updated to running\n",
      "2025-05-23 10:06:08,008 INFO status has been updated to successful\n"
     ]
    },
    {
     "data": {
      "application/vnd.jupyter.widget-view+json": {
       "model_id": "25eae6c314bf411a87480fb77abd6e84",
       "version_major": 2,
       "version_minor": 0
      },
      "text/plain": [
       "c2a585e2cc6e60fbb4ccea41f9b8e799.nc:   0%|          | 0.00/1.01M [00:00<?, ?B/s]"
      ]
     },
     "metadata": {},
     "output_type": "display_data"
    },
    {
     "name": "stdout",
     "output_type": "stream",
     "text": [
      "Téléchargement : era5_land_2017_03.nc ...\n"
     ]
    },
    {
     "name": "stderr",
     "output_type": "stream",
     "text": [
      "2025-05-23 10:06:09,873 INFO Request ID is bc79d483-363c-4a68-a016-67ff056dcca9\n",
      "2025-05-23 10:06:09,960 INFO status has been updated to accepted\n",
      "2025-05-23 10:06:31,993 INFO status has been updated to running\n",
      "2025-05-23 10:12:30,206 INFO status has been updated to successful\n"
     ]
    },
    {
     "data": {
      "application/vnd.jupyter.widget-view+json": {
       "model_id": "6be8a6aa8fef418eb00c95fdc0cd00f3",
       "version_major": 2,
       "version_minor": 0
      },
      "text/plain": [
       "df4ecc1e04c7bb9452da467d40f941b5.nc:   0%|          | 0.00/1.16M [00:00<?, ?B/s]"
      ]
     },
     "metadata": {},
     "output_type": "display_data"
    },
    {
     "name": "stdout",
     "output_type": "stream",
     "text": [
      "Téléchargement : era5_land_2017_04.nc ...\n"
     ]
    },
    {
     "name": "stderr",
     "output_type": "stream",
     "text": [
      "2025-05-23 10:12:32,352 INFO Request ID is 757e0861-b6f4-498f-a44a-0d996e3dbe49\n",
      "2025-05-23 10:12:32,438 INFO status has been updated to accepted\n",
      "2025-05-23 10:12:46,131 INFO status has been updated to running\n",
      "2025-05-23 10:18:52,409 INFO status has been updated to successful\n"
     ]
    },
    {
     "data": {
      "application/vnd.jupyter.widget-view+json": {
       "model_id": "48f9fae117694dc5a08ce5d82934bc5f",
       "version_major": 2,
       "version_minor": 0
      },
      "text/plain": [
       "2d0dc555891cb125460f91229376ec66.nc:   0%|          | 0.00/1.15M [00:00<?, ?B/s]"
      ]
     },
     "metadata": {},
     "output_type": "display_data"
    },
    {
     "name": "stdout",
     "output_type": "stream",
     "text": [
      "Téléchargement : era5_land_2017_05.nc ...\n"
     ]
    },
    {
     "name": "stderr",
     "output_type": "stream",
     "text": [
      "2025-05-23 10:18:54,367 INFO Request ID is 034742bc-06cd-476a-a46c-a4742d767e73\n",
      "2025-05-23 10:18:54,444 INFO status has been updated to accepted\n",
      "2025-05-23 10:19:08,619 INFO status has been updated to running\n",
      "2025-05-23 10:25:14,630 INFO status has been updated to successful\n"
     ]
    },
    {
     "data": {
      "application/vnd.jupyter.widget-view+json": {
       "model_id": "14053b21eb564b4ba86f74cbead6574e",
       "version_major": 2,
       "version_minor": 0
      },
      "text/plain": [
       "2cdf21e602ef7b8331d5d34ffd22548b.nc:   0%|          | 0.00/1.23M [00:00<?, ?B/s]"
      ]
     },
     "metadata": {},
     "output_type": "display_data"
    },
    {
     "name": "stdout",
     "output_type": "stream",
     "text": [
      "Téléchargement : era5_land_2017_06.nc ...\n"
     ]
    },
    {
     "name": "stderr",
     "output_type": "stream",
     "text": [
      "2025-05-23 10:25:16,463 INFO Request ID is 2fc7e9cd-887a-45de-89a3-fd25b1a6a874\n",
      "2025-05-23 10:25:16,591 INFO status has been updated to accepted\n",
      "2025-05-23 10:25:37,837 INFO status has been updated to running\n",
      "2025-05-23 10:31:36,774 INFO status has been updated to successful\n"
     ]
    },
    {
     "data": {
      "application/vnd.jupyter.widget-view+json": {
       "model_id": "f25ce13751e446219e273ec6be4a4ad7",
       "version_major": 2,
       "version_minor": 0
      },
      "text/plain": [
       "fbbc99444f5653a23725fe01dc7504e4.nc:   0%|          | 0.00/1.21M [00:00<?, ?B/s]"
      ]
     },
     "metadata": {},
     "output_type": "display_data"
    },
    {
     "name": "stdout",
     "output_type": "stream",
     "text": [
      "Téléchargement : era5_land_2017_07.nc ...\n"
     ]
    },
    {
     "name": "stderr",
     "output_type": "stream",
     "text": [
      "2025-05-23 10:31:39,012 INFO Request ID is d0376690-df3e-4884-b310-b91c3004c3e9\n",
      "2025-05-23 10:31:39,106 INFO status has been updated to accepted\n",
      "2025-05-23 10:31:47,557 INFO status has been updated to running\n",
      "2025-05-23 10:42:03,993 INFO status has been updated to successful\n"
     ]
    },
    {
     "data": {
      "application/vnd.jupyter.widget-view+json": {
       "model_id": "4247fe7169264a5b810aa502d100b44a",
       "version_major": 2,
       "version_minor": 0
      },
      "text/plain": [
       "e8873e6d6f202e1010f856a578feebfb.nc:   0%|          | 0.00/1.23M [00:00<?, ?B/s]"
      ]
     },
     "metadata": {},
     "output_type": "display_data"
    },
    {
     "name": "stdout",
     "output_type": "stream",
     "text": [
      "Téléchargement : era5_land_2017_08.nc ...\n"
     ]
    },
    {
     "name": "stderr",
     "output_type": "stream",
     "text": [
      "2025-05-23 10:42:05,696 INFO Request ID is 655ed3c0-ec96-42ba-acf4-70cd1058069a\n",
      "2025-05-23 10:42:05,781 INFO status has been updated to accepted\n",
      "2025-05-23 10:42:56,213 INFO status has been updated to running\n",
      "2025-05-23 10:50:25,641 INFO status has been updated to successful\n"
     ]
    },
    {
     "data": {
      "application/vnd.jupyter.widget-view+json": {
       "model_id": "d5bcc6a4976547c6943951d83236408b",
       "version_major": 2,
       "version_minor": 0
      },
      "text/plain": [
       "23ca34ef6e4134e9d166ccc0e0e697c7.nc:   0%|          | 0.00/1.20M [00:00<?, ?B/s]"
      ]
     },
     "metadata": {},
     "output_type": "display_data"
    },
    {
     "name": "stderr",
     "output_type": "stream",
     "text": [
      "2025-05-23 10:50:27,291 INFO Request ID is c9ea8fe1-de21-4848-be51-fe1d9cfcdd0c\n"
     ]
    },
    {
     "name": "stdout",
     "output_type": "stream",
     "text": [
      "Téléchargement : era5_land_2017_09.nc ...\n"
     ]
    },
    {
     "name": "stderr",
     "output_type": "stream",
     "text": [
      "2025-05-23 10:50:27,561 INFO status has been updated to accepted\n",
      "2025-05-23 10:50:36,056 INFO status has been updated to running\n",
      "2025-05-23 10:56:46,854 INFO status has been updated to successful\n"
     ]
    },
    {
     "data": {
      "application/vnd.jupyter.widget-view+json": {
       "model_id": "e3d7df017d0345b48fa7be2bf6f9cf74",
       "version_major": 2,
       "version_minor": 0
      },
      "text/plain": [
       "8519a8250bda4f171b93fb5678a2a004.nc:   0%|          | 0.00/1.11M [00:00<?, ?B/s]"
      ]
     },
     "metadata": {},
     "output_type": "display_data"
    },
    {
     "name": "stdout",
     "output_type": "stream",
     "text": [
      "Téléchargement : era5_land_2017_10.nc ...\n"
     ]
    },
    {
     "name": "stderr",
     "output_type": "stream",
     "text": [
      "2025-05-23 10:56:48,394 INFO Request ID is caa6bb1d-04d6-41d3-b0bd-ff234cd5b628\n",
      "2025-05-23 10:56:48,502 INFO status has been updated to accepted\n",
      "2025-05-23 10:57:02,453 INFO status has been updated to running\n",
      "2025-05-23 11:03:09,728 INFO status has been updated to successful\n"
     ]
    },
    {
     "data": {
      "application/vnd.jupyter.widget-view+json": {
       "model_id": "64cbf7d8526f4b45b05edd91f0e9401a",
       "version_major": 2,
       "version_minor": 0
      },
      "text/plain": [
       "1539fb1c6e8b8318f41bed3f254f29d2.nc:   0%|          | 0.00/1.12M [00:00<?, ?B/s]"
      ]
     },
     "metadata": {},
     "output_type": "display_data"
    },
    {
     "name": "stdout",
     "output_type": "stream",
     "text": [
      "Téléchargement : era5_land_2017_11.nc ...\n"
     ]
    },
    {
     "name": "stderr",
     "output_type": "stream",
     "text": [
      "2025-05-23 11:03:12,095 INFO Request ID is 1f4415dd-84ad-446c-9fca-136b251d765b\n",
      "2025-05-23 11:03:12,161 INFO status has been updated to accepted\n",
      "2025-05-23 11:03:21,295 INFO status has been updated to running\n",
      "2025-05-23 11:03:26,479 INFO status has been updated to accepted\n",
      "2025-05-23 11:03:34,161 INFO status has been updated to running\n",
      "2025-05-23 11:09:32,050 INFO status has been updated to successful\n"
     ]
    },
    {
     "data": {
      "application/vnd.jupyter.widget-view+json": {
       "model_id": "954c8ceff0714c1895c8b2b8e9c139ff",
       "version_major": 2,
       "version_minor": 0
      },
      "text/plain": [
       "ce70bac68e2f58a54cc5987c1f4fae43.nc:   0%|          | 0.00/1.04M [00:00<?, ?B/s]"
      ]
     },
     "metadata": {},
     "output_type": "display_data"
    },
    {
     "name": "stdout",
     "output_type": "stream",
     "text": [
      "Téléchargement : era5_land_2017_12.nc ...\n"
     ]
    },
    {
     "name": "stderr",
     "output_type": "stream",
     "text": [
      "2025-05-23 11:09:33,704 INFO Request ID is 64d4614d-b0de-41d1-a333-d183913a0782\n",
      "2025-05-23 11:09:34,122 INFO status has been updated to accepted\n",
      "2025-05-23 11:09:42,803 INFO status has been updated to running\n",
      "2025-05-23 11:15:53,852 INFO status has been updated to successful\n"
     ]
    },
    {
     "data": {
      "application/vnd.jupyter.widget-view+json": {
       "model_id": "08b841fbb81846fcb2b2e4e78db46153",
       "version_major": 2,
       "version_minor": 0
      },
      "text/plain": [
       "f2aaed099a75a0c5e69067c2f1c74daf.nc:   0%|          | 0.00/1.03M [00:00<?, ?B/s]"
      ]
     },
     "metadata": {},
     "output_type": "display_data"
    },
    {
     "name": "stdout",
     "output_type": "stream",
     "text": [
      "Téléchargement : era5_land_2018_01.nc ...\n"
     ]
    },
    {
     "name": "stderr",
     "output_type": "stream",
     "text": [
      "2025-05-23 11:15:56,229 INFO Request ID is cf1238e8-3cd4-414b-bfe1-f00444adfaf2\n",
      "2025-05-23 11:15:56,346 INFO status has been updated to accepted\n",
      "2025-05-23 11:16:05,145 INFO status has been updated to running\n",
      "2025-05-23 11:22:18,695 INFO status has been updated to successful\n"
     ]
    },
    {
     "data": {
      "application/vnd.jupyter.widget-view+json": {
       "model_id": "d32d99ccb04741e4a927a93a0c1f8392",
       "version_major": 2,
       "version_minor": 0
      },
      "text/plain": [
       "c6407ce7c9ca2c898508c4a611500832.nc:   0%|          | 0.00/1.05M [00:00<?, ?B/s]"
      ]
     },
     "metadata": {},
     "output_type": "display_data"
    },
    {
     "name": "stdout",
     "output_type": "stream",
     "text": [
      "Téléchargement : era5_land_2018_02.nc ...\n"
     ]
    },
    {
     "name": "stderr",
     "output_type": "stream",
     "text": [
      "2025-05-23 11:22:33,645 INFO Request ID is 40e67fa4-cb3f-4f19-9814-dc4cc8c29e2a\n",
      "2025-05-23 11:22:33,728 INFO status has been updated to accepted\n",
      "2025-05-23 11:22:42,232 INFO status has been updated to running\n",
      "2025-05-23 11:32:59,059 INFO status has been updated to successful\n"
     ]
    },
    {
     "data": {
      "application/vnd.jupyter.widget-view+json": {
       "model_id": "c8c2d8b0c2a04c79a0b3887cdfb710e6",
       "version_major": 2,
       "version_minor": 0
      },
      "text/plain": [
       "bb3a0c92bc9e71a704781408d029882d.nc:   0%|          | 0.00/1.01M [00:00<?, ?B/s]"
      ]
     },
     "metadata": {},
     "output_type": "display_data"
    },
    {
     "name": "stdout",
     "output_type": "stream",
     "text": [
      "Téléchargement : era5_land_2018_03.nc ...\n"
     ]
    },
    {
     "name": "stderr",
     "output_type": "stream",
     "text": [
      "2025-05-23 11:33:02,826 INFO Request ID is 20e56bf3-28b8-4827-acdc-f1f0b76d14de\n",
      "2025-05-23 11:33:03,039 INFO status has been updated to accepted\n",
      "2025-05-23 11:33:53,599 INFO status has been updated to running\n",
      "2025-05-23 11:39:23,004 INFO status has been updated to successful\n"
     ]
    },
    {
     "data": {
      "application/vnd.jupyter.widget-view+json": {
       "model_id": "bf3df9233cf2424b8a82c61c8e1ad318",
       "version_major": 2,
       "version_minor": 0
      },
      "text/plain": [
       "a0d9e481d259a992bda9397e4fb7d96e.nc:   0%|          | 0.00/1.17M [00:00<?, ?B/s]"
      ]
     },
     "metadata": {},
     "output_type": "display_data"
    },
    {
     "name": "stdout",
     "output_type": "stream",
     "text": [
      "Téléchargement : era5_land_2018_04.nc ...\n"
     ]
    },
    {
     "name": "stderr",
     "output_type": "stream",
     "text": [
      "2025-05-23 11:39:25,028 INFO Request ID is c7cd6a2c-8d2b-474a-9c7b-7067220c6f3b\n",
      "2025-05-23 11:39:25,123 INFO status has been updated to accepted\n",
      "2025-05-23 11:39:39,187 INFO status has been updated to running\n",
      "2025-05-23 11:49:45,502 INFO status has been updated to successful\n"
     ]
    },
    {
     "data": {
      "application/vnd.jupyter.widget-view+json": {
       "model_id": "942d7344d45e450abe628611a393926c",
       "version_major": 2,
       "version_minor": 0
      },
      "text/plain": [
       "c90b9f699372968fca431e18502eea56.nc:   0%|          | 0.00/1.16M [00:00<?, ?B/s]"
      ]
     },
     "metadata": {},
     "output_type": "display_data"
    },
    {
     "name": "stdout",
     "output_type": "stream",
     "text": [
      "Téléchargement : era5_land_2018_05.nc ...\n"
     ]
    },
    {
     "name": "stderr",
     "output_type": "stream",
     "text": [
      "2025-05-23 11:49:47,852 INFO Request ID is 6cd8a660-a465-4e6d-951f-8f72b1f1df3d\n",
      "2025-05-23 11:49:47,938 INFO status has been updated to accepted\n",
      "2025-05-23 11:49:56,674 INFO status has been updated to running\n",
      "2025-05-23 11:56:07,498 INFO status has been updated to successful\n"
     ]
    },
    {
     "data": {
      "application/vnd.jupyter.widget-view+json": {
       "model_id": "8ac5f1c1ae3c47dfb6dc50a55156ef96",
       "version_major": 2,
       "version_minor": 0
      },
      "text/plain": [
       "88cf39856062fd1d7cf123116f09d826.nc:   0%|          | 0.00/1.23M [00:00<?, ?B/s]"
      ]
     },
     "metadata": {},
     "output_type": "display_data"
    },
    {
     "name": "stdout",
     "output_type": "stream",
     "text": [
      "Téléchargement : era5_land_2018_06.nc ...\n"
     ]
    },
    {
     "name": "stderr",
     "output_type": "stream",
     "text": [
      "2025-05-23 11:56:09,496 INFO Request ID is 65ee1d96-aca6-4402-bb6c-88d7808ccf89\n",
      "2025-05-23 11:56:09,576 INFO status has been updated to accepted\n",
      "2025-05-23 11:56:23,179 INFO status has been updated to running\n",
      "2025-05-23 12:02:29,378 INFO status has been updated to successful\n"
     ]
    },
    {
     "data": {
      "application/vnd.jupyter.widget-view+json": {
       "model_id": "aa11a6fb10d64770ac4d9af0cc3ef0f9",
       "version_major": 2,
       "version_minor": 0
      },
      "text/plain": [
       "2725c69f0e6a39f2e133a9f283062888.nc:   0%|          | 0.00/1.20M [00:00<?, ?B/s]"
      ]
     },
     "metadata": {},
     "output_type": "display_data"
    },
    {
     "name": "stdout",
     "output_type": "stream",
     "text": [
      "Téléchargement : era5_land_2018_07.nc ...\n"
     ]
    },
    {
     "name": "stderr",
     "output_type": "stream",
     "text": [
      "2025-05-23 12:02:31,419 INFO Request ID is ad1536b7-c15a-4365-b29f-d327bf3feb3e\n",
      "2025-05-23 12:02:31,514 INFO status has been updated to accepted\n",
      "2025-05-23 12:02:52,753 INFO status has been updated to running\n",
      "2025-05-23 12:08:56,432 INFO status has been updated to successful\n"
     ]
    },
    {
     "data": {
      "application/vnd.jupyter.widget-view+json": {
       "model_id": "cd6778087d49417cae5f0d8edf5ad4ee",
       "version_major": 2,
       "version_minor": 0
      },
      "text/plain": [
       "12f1f99e8685dfc70257dc3b5d0794d8.nc:   0%|          | 0.00/1.24M [00:00<?, ?B/s]"
      ]
     },
     "metadata": {},
     "output_type": "display_data"
    },
    {
     "name": "stdout",
     "output_type": "stream",
     "text": [
      "Téléchargement : era5_land_2018_08.nc ...\n"
     ]
    },
    {
     "name": "stderr",
     "output_type": "stream",
     "text": [
      "2025-05-23 12:08:58,491 INFO Request ID is 7930bd5f-0078-4072-8685-f490a184609c\n",
      "2025-05-23 12:08:58,582 INFO status has been updated to accepted\n",
      "2025-05-23 12:09:49,671 INFO status has been updated to running\n",
      "2025-05-23 12:17:19,581 INFO status has been updated to successful\n"
     ]
    },
    {
     "data": {
      "application/vnd.jupyter.widget-view+json": {
       "model_id": "b70d9062f6d34d71bca96ee6d0a51a28",
       "version_major": 2,
       "version_minor": 0
      },
      "text/plain": [
       "c9c068e7d2bd6a2ed80da47c9baa863f.nc:   0%|          | 0.00/1.21M [00:00<?, ?B/s]"
      ]
     },
     "metadata": {},
     "output_type": "display_data"
    },
    {
     "name": "stdout",
     "output_type": "stream",
     "text": [
      "Téléchargement : era5_land_2018_09.nc ...\n"
     ]
    },
    {
     "name": "stderr",
     "output_type": "stream",
     "text": [
      "2025-05-23 12:17:24,314 INFO Request ID is 98b8e0cb-05d4-4f42-9a99-1c7215b0bf25\n",
      "2025-05-23 12:17:24,408 INFO status has been updated to accepted\n",
      "2025-05-23 12:17:45,947 INFO status has been updated to running\n",
      "2025-05-23 12:29:46,799 INFO status has been updated to successful\n"
     ]
    },
    {
     "data": {
      "application/vnd.jupyter.widget-view+json": {
       "model_id": "5a00a0f7b83749439841f702a8c790db",
       "version_major": 2,
       "version_minor": 0
      },
      "text/plain": [
       "975e092712f735dd118498af556ca6e4.nc:   0%|          | 0.00/1.12M [00:00<?, ?B/s]"
      ]
     },
     "metadata": {},
     "output_type": "display_data"
    },
    {
     "name": "stdout",
     "output_type": "stream",
     "text": [
      "Téléchargement : era5_land_2018_10.nc ...\n"
     ]
    },
    {
     "name": "stderr",
     "output_type": "stream",
     "text": [
      "2025-05-23 12:29:48,472 INFO Request ID is e94d1c10-bb3f-41fc-a301-9c19fd8da9bb\n",
      "2025-05-23 12:29:48,627 INFO status has been updated to accepted\n",
      "2025-05-23 12:30:40,044 INFO status has been updated to running\n",
      "2025-05-23 12:36:09,550 INFO status has been updated to successful\n"
     ]
    },
    {
     "data": {
      "application/vnd.jupyter.widget-view+json": {
       "model_id": "c13b75294f7942af848da85f4b32dea3",
       "version_major": 2,
       "version_minor": 0
      },
      "text/plain": [
       "98402b7c986dd97bf57b9f6e9ef9960.nc:   0%|          | 0.00/1.12M [00:00<?, ?B/s]"
      ]
     },
     "metadata": {},
     "output_type": "display_data"
    },
    {
     "name": "stdout",
     "output_type": "stream",
     "text": [
      "Téléchargement : era5_land_2018_11.nc ...\n"
     ]
    },
    {
     "name": "stderr",
     "output_type": "stream",
     "text": [
      "2025-05-23 12:36:13,014 INFO Request ID is 64ea4930-f099-4213-b50d-ec000f228e18\n",
      "2025-05-23 12:36:13,089 INFO status has been updated to accepted\n",
      "2025-05-23 12:36:34,688 INFO status has been updated to running\n",
      "2025-05-23 12:42:33,421 INFO status has been updated to successful\n"
     ]
    },
    {
     "data": {
      "application/vnd.jupyter.widget-view+json": {
       "model_id": "1c0ee0e99d4c433f942aa2e3c9333b90",
       "version_major": 2,
       "version_minor": 0
      },
      "text/plain": [
       "d4dd5b1df2e835b347e51cc766651dc7.nc:   0%|          | 0.00/1.04M [00:00<?, ?B/s]"
      ]
     },
     "metadata": {},
     "output_type": "display_data"
    },
    {
     "name": "stdout",
     "output_type": "stream",
     "text": [
      "Téléchargement : era5_land_2018_12.nc ...\n"
     ]
    },
    {
     "name": "stderr",
     "output_type": "stream",
     "text": [
      "2025-05-23 12:42:35,315 INFO Request ID is 2d29b609-a158-480b-af4f-0c1cd555bcf7\n",
      "2025-05-23 12:42:35,401 INFO status has been updated to accepted\n",
      "2025-05-23 12:42:40,765 INFO status has been updated to running\n",
      "2025-05-23 12:48:56,144 INFO status has been updated to successful\n"
     ]
    },
    {
     "data": {
      "application/vnd.jupyter.widget-view+json": {
       "model_id": "fecc4616c1a84195b92ee390ec731c30",
       "version_major": 2,
       "version_minor": 0
      },
      "text/plain": [
       "76b37479e2ab735f2127c89a715bdbbb.nc:   0%|          | 0.00/1.04M [00:00<?, ?B/s]"
      ]
     },
     "metadata": {},
     "output_type": "display_data"
    },
    {
     "name": "stdout",
     "output_type": "stream",
     "text": [
      "Téléchargement : era5_land_2019_01.nc ...\n"
     ]
    },
    {
     "name": "stderr",
     "output_type": "stream",
     "text": [
      "2025-05-23 12:48:59,446 INFO Request ID is 477f84f9-b96d-426a-bace-bf71ec10272b\n",
      "2025-05-23 12:48:59,543 INFO status has been updated to accepted\n",
      "2025-05-23 12:49:22,847 INFO status has been updated to running\n",
      "2025-05-23 12:55:22,738 INFO status has been updated to successful\n"
     ]
    },
    {
     "data": {
      "application/vnd.jupyter.widget-view+json": {
       "model_id": "39bb08feae6e46aa8a1a875a8b984992",
       "version_major": 2,
       "version_minor": 0
      },
      "text/plain": [
       "5612e54cbc5b15e173bb9f31692b28b5.nc:   0%|          | 0.00/1.07M [00:00<?, ?B/s]"
      ]
     },
     "metadata": {},
     "output_type": "display_data"
    },
    {
     "name": "stdout",
     "output_type": "stream",
     "text": [
      "Téléchargement : era5_land_2019_02.nc ...\n"
     ]
    },
    {
     "name": "stderr",
     "output_type": "stream",
     "text": [
      "2025-05-23 12:55:26,081 INFO Request ID is 0029c65f-40d5-494c-9ebb-12bd7c29e657\n",
      "2025-05-23 12:55:26,228 INFO status has been updated to accepted\n",
      "2025-05-23 12:56:18,655 INFO status has been updated to running\n",
      "2025-05-23 13:01:48,397 INFO status has been updated to successful\n"
     ]
    },
    {
     "data": {
      "application/vnd.jupyter.widget-view+json": {
       "model_id": "ed37404504f84f03bf81f6c912a84719",
       "version_major": 2,
       "version_minor": 0
      },
      "text/plain": [
       "cefe32962deb39c2b5ee0edfd86f2a44.nc:   0%|          | 0.00/1.01M [00:00<?, ?B/s]"
      ]
     },
     "metadata": {},
     "output_type": "display_data"
    },
    {
     "name": "stdout",
     "output_type": "stream",
     "text": [
      "Téléchargement : era5_land_2019_03.nc ...\n"
     ]
    },
    {
     "name": "stderr",
     "output_type": "stream",
     "text": [
      "2025-05-23 13:01:52,169 INFO Request ID is d141c6e5-682f-4e49-902a-b51c5c1707f9\n",
      "2025-05-23 13:01:52,312 INFO status has been updated to accepted\n",
      "2025-05-23 13:02:01,081 INFO status has been updated to running\n",
      "2025-05-23 13:18:17,270 INFO status has been updated to successful\n"
     ]
    },
    {
     "data": {
      "application/vnd.jupyter.widget-view+json": {
       "model_id": "2605dc0d08f84aae8e1ec53cc188af04",
       "version_major": 2,
       "version_minor": 0
      },
      "text/plain": [
       "d767ad48d495cbd32dab864b50ae434b.nc:   0%|          | 0.00/1.16M [00:00<?, ?B/s]"
      ]
     },
     "metadata": {},
     "output_type": "display_data"
    },
    {
     "name": "stdout",
     "output_type": "stream",
     "text": [
      "Téléchargement : era5_land_2019_04.nc ...\n"
     ]
    },
    {
     "name": "stderr",
     "output_type": "stream",
     "text": [
      "2025-05-23 13:18:21,928 INFO Request ID is 531bf39a-413e-4c35-b5f4-e4edb7428996\n",
      "2025-05-23 13:18:22,122 INFO status has been updated to accepted\n",
      "2025-05-23 13:19:39,580 INFO status has been updated to running\n",
      "2025-05-23 13:24:45,052 INFO status has been updated to successful\n"
     ]
    },
    {
     "data": {
      "application/vnd.jupyter.widget-view+json": {
       "model_id": "d88601ca958c40f4826d3d574d60e56b",
       "version_major": 2,
       "version_minor": 0
      },
      "text/plain": [
       "f7b03123520cc1575a06b1715bafd906.nc:   0%|          | 0.00/1.16M [00:00<?, ?B/s]"
      ]
     },
     "metadata": {},
     "output_type": "display_data"
    },
    {
     "name": "stdout",
     "output_type": "stream",
     "text": [
      "Téléchargement : era5_land_2019_05.nc ...\n"
     ]
    },
    {
     "name": "stderr",
     "output_type": "stream",
     "text": [
      "2025-05-23 13:24:49,351 INFO Request ID is 6c66db93-1a40-456d-93f8-89f8ef8ca4d8\n",
      "2025-05-23 13:24:49,436 INFO status has been updated to accepted\n",
      "2025-05-23 13:24:54,869 INFO status has been updated to running\n",
      "2025-05-23 13:31:12,207 INFO status has been updated to successful\n"
     ]
    },
    {
     "data": {
      "application/vnd.jupyter.widget-view+json": {
       "model_id": "40d93005a38b4b8ba1fb1e33dc665f4e",
       "version_major": 2,
       "version_minor": 0
      },
      "text/plain": [
       "52de52e5ac5ed15c2338f61c07ee8e05.nc:   0%|          | 0.00/1.22M [00:00<?, ?B/s]"
      ]
     },
     "metadata": {},
     "output_type": "display_data"
    },
    {
     "name": "stdout",
     "output_type": "stream",
     "text": [
      "Téléchargement : era5_land_2019_06.nc ...\n"
     ]
    },
    {
     "name": "stderr",
     "output_type": "stream",
     "text": [
      "2025-05-23 13:31:14,604 INFO Request ID is fd1137dc-c3e2-4e54-8ce8-34141199276e\n",
      "2025-05-23 13:31:14,716 INFO status has been updated to accepted\n",
      "2025-05-23 13:31:19,704 INFO status has been updated to running\n",
      "2025-05-23 13:37:41,074 INFO status has been updated to successful\n"
     ]
    },
    {
     "data": {
      "application/vnd.jupyter.widget-view+json": {
       "model_id": "6c19f472ced94fbcabc676251203000f",
       "version_major": 2,
       "version_minor": 0
      },
      "text/plain": [
       "3323611866ccca2495b2435003adbffa.nc:   0%|          | 0.00/1.21M [00:00<?, ?B/s]"
      ]
     },
     "metadata": {},
     "output_type": "display_data"
    },
    {
     "name": "stdout",
     "output_type": "stream",
     "text": [
      "Téléchargement : era5_land_2019_07.nc ...\n"
     ]
    },
    {
     "name": "stderr",
     "output_type": "stream",
     "text": [
      "2025-05-23 13:37:47,111 INFO Request ID is 49396358-0379-4101-8025-71cc84b7423b\n",
      "2025-05-23 13:37:47,262 INFO status has been updated to accepted\n",
      "2025-05-23 13:37:54,716 INFO status has been updated to running\n",
      "2025-05-23 13:44:21,492 INFO status has been updated to successful\n"
     ]
    },
    {
     "data": {
      "application/vnd.jupyter.widget-view+json": {
       "model_id": "5f939a345b82425a82d3145d8067d482",
       "version_major": 2,
       "version_minor": 0
      },
      "text/plain": [
       "662e4ef433b4dd038bb5b64249a1aa41.nc:   0%|          | 0.00/1.24M [00:00<?, ?B/s]"
      ]
     },
     "metadata": {},
     "output_type": "display_data"
    },
    {
     "name": "stdout",
     "output_type": "stream",
     "text": [
      "Téléchargement : era5_land_2019_08.nc ...\n"
     ]
    },
    {
     "name": "stderr",
     "output_type": "stream",
     "text": [
      "2025-05-23 13:44:25,317 INFO Request ID is f1589d6a-13a5-40c6-940f-c13d3699773a\n",
      "2025-05-23 13:44:25,448 INFO status has been updated to accepted\n",
      "2025-05-23 13:44:47,319 INFO status has been updated to running\n",
      "2025-05-23 13:50:57,111 INFO status has been updated to successful\n"
     ]
    },
    {
     "data": {
      "application/vnd.jupyter.widget-view+json": {
       "model_id": "5fc011bcfec848be8bd3acf6488c6101",
       "version_major": 2,
       "version_minor": 0
      },
      "text/plain": [
       "87e0165392524f129707559ec04acf9b.nc:   0%|          | 0.00/1.20M [00:00<?, ?B/s]"
      ]
     },
     "metadata": {},
     "output_type": "display_data"
    },
    {
     "name": "stdout",
     "output_type": "stream",
     "text": [
      "Téléchargement : era5_land_2019_09.nc ...\n"
     ]
    },
    {
     "name": "stderr",
     "output_type": "stream",
     "text": [
      "2025-05-23 13:51:01,859 INFO Request ID is 0aa46258-f105-4b77-aa5e-ea593f7e91ae\n",
      "2025-05-23 13:51:01,942 INFO status has been updated to accepted\n",
      "2025-05-23 13:51:23,456 INFO status has been updated to running\n",
      "2025-05-23 13:57:23,395 INFO status has been updated to successful\n"
     ]
    },
    {
     "data": {
      "application/vnd.jupyter.widget-view+json": {
       "model_id": "65ad483c4a684c45b35b1821178e470a",
       "version_major": 2,
       "version_minor": 0
      },
      "text/plain": [
       "4c5f4c3ee05bb0abc81feecf13422f7.nc:   0%|          | 0.00/1.12M [00:00<?, ?B/s]"
      ]
     },
     "metadata": {},
     "output_type": "display_data"
    },
    {
     "name": "stdout",
     "output_type": "stream",
     "text": [
      "Téléchargement : era5_land_2019_10.nc ...\n"
     ]
    },
    {
     "name": "stderr",
     "output_type": "stream",
     "text": [
      "2025-05-23 13:57:29,436 INFO Request ID is c90c813d-14e9-461f-bce4-2fc82fda7e0f\n",
      "2025-05-23 13:57:29,536 INFO status has been updated to accepted\n",
      "2025-05-23 13:57:54,191 INFO status has been updated to running\n",
      "2025-05-23 14:03:58,423 INFO status has been updated to successful\n"
     ]
    },
    {
     "data": {
      "application/vnd.jupyter.widget-view+json": {
       "model_id": "df1c68aaf7f94091a01ab209e1b653bc",
       "version_major": 2,
       "version_minor": 0
      },
      "text/plain": [
       "5e2fc09571224c861f4f735919ceb8c.nc:   0%|          | 0.00/1.11M [00:00<?, ?B/s]"
      ]
     },
     "metadata": {},
     "output_type": "display_data"
    },
    {
     "name": "stdout",
     "output_type": "stream",
     "text": [
      "Téléchargement : era5_land_2019_11.nc ...\n"
     ]
    },
    {
     "name": "stderr",
     "output_type": "stream",
     "text": [
      "2025-05-23 14:04:04,024 INFO Request ID is a7d32b00-8769-46c9-9ff3-b32e35cedefe\n",
      "2025-05-23 14:04:04,145 INFO status has been updated to accepted\n",
      "2025-05-23 14:04:11,554 INFO status has been updated to running\n",
      "2025-05-23 14:10:32,937 INFO status has been updated to successful\n"
     ]
    },
    {
     "data": {
      "application/vnd.jupyter.widget-view+json": {
       "model_id": "f5ae19d0b4a8425ebc16ba6ae02698e2",
       "version_major": 2,
       "version_minor": 0
      },
      "text/plain": [
       "66f9ad60c8f6c327a91e0f9169872b4.nc:   0%|          | 0.00/1.04M [00:00<?, ?B/s]"
      ]
     },
     "metadata": {},
     "output_type": "display_data"
    },
    {
     "name": "stdout",
     "output_type": "stream",
     "text": [
      "Téléchargement : era5_land_2019_12.nc ...\n"
     ]
    },
    {
     "name": "stderr",
     "output_type": "stream",
     "text": [
      "2025-05-23 14:10:36,808 INFO Request ID is d45cda20-68d5-4ac3-8eb0-9052a50f98a3\n",
      "2025-05-23 14:10:36,922 INFO status has been updated to accepted\n",
      "2025-05-23 14:11:27,594 INFO status has been updated to running\n",
      "2025-05-23 14:16:58,222 INFO status has been updated to successful\n"
     ]
    },
    {
     "data": {
      "application/vnd.jupyter.widget-view+json": {
       "model_id": "0693a9b5f942467eb7932c318df7ffa0",
       "version_major": 2,
       "version_minor": 0
      },
      "text/plain": [
       "edca26e0addf91d8265aed7b6a56a6fd.nc:   0%|          | 0.00/1.04M [00:00<?, ?B/s]"
      ]
     },
     "metadata": {},
     "output_type": "display_data"
    },
    {
     "name": "stdout",
     "output_type": "stream",
     "text": [
      "Téléchargements terminés.\n"
     ]
    }
   ],
   "source": [
    "import os\n",
    "import cdsapi\n",
    "import calendar\n",
    "\n",
    "\n",
    "os.environ['REQUESTS_CA_BUNDLE'] = 'H:/PFE Loice/Notebooks/zscaler_bundle.pem'\n",
    "\n",
    "c = cdsapi.Client()\n",
    "\n",
    "dataset = \"reanalysis-era5-land\"\n",
    "\n",
    "years = [\"2017\", \"2018\", \"2019\"]\n",
    "months = [f\"{m:02d}\" for m in range(1, 13)]\n",
    "\n",
    "for year in years:\n",
    "    for month in months:\n",
    "        # Calculer le nombre de jours dans le mois (utile pour février et les mois à 30 jours)\n",
    "        nb_days = calendar.monthrange(int(year), int(month))[1]\n",
    "        days = [f\"{d:02d}\" for d in range(1, nb_days + 1)]\n",
    "\n",
    "        filename = f\"era5_land_{year}_{month}.nc\"  # extension netcdf\n",
    "\n",
    "        print(f\"Téléchargement : {filename} ...\")\n",
    "\n",
    "        request = {\n",
    "            \"product_type\": \"reanalysis\",\n",
    "            \"variable\": [\n",
    "                \"2m_temperature\",\n",
    "                \"skin_temperature\",\n",
    "                \"surface_net_solar_radiation\"\n",
    "            ],\n",
    "            \"year\": year,\n",
    "            \"month\": month,\n",
    "            \"day\": days,\n",
    "            \"time\": [f\"{h:02d}:00\" for h in range(24)],\n",
    "            \"format\": \"netcdf\",\n",
    "            \"download_format\": \"unarchived\",\n",
    "            \"area\": [49.5, 1.5, 48, 3.5]  # ta zone géographique\n",
    "        }\n",
    "\n",
    "        c.retrieve(dataset, request, filename)\n",
    "\n",
    "print(\"Téléchargements terminés.\")\n"
   ]
  },
  {
   "cell_type": "code",
   "execution_count": 2,
   "id": "e163ea61",
   "metadata": {},
   "outputs": [
    {
     "name": "stdout",
     "output_type": "stream",
     "text": [
      "Traitement de 730 dates avec interpolation IDW adaptative\n"
     ]
    },
    {
     "name": "stderr",
     "output_type": "stream",
     "text": [
      "IDW - 2019-04-21:  65%|██████▌   | 475/730 [23:02:56<12:22:25, 174.69s/it]    \n"
     ]
    },
    {
     "ename": "RasterioIOError",
     "evalue": "Read failed. See previous exception for details.",
     "output_type": "error",
     "traceback": [
      "\u001b[1;31m---------------------------------------------------------------------------\u001b[0m",
      "\u001b[1;31mCPLE_AppDefinedError\u001b[0m                      Traceback (most recent call last)",
      "\u001b[1;31mCPLE_AppDefinedError\u001b[0m: TIFFFillStrip:Read error at scanline 778; got 0 bytes, expected 10522",
      "\nThe above exception was the direct cause of the following exception:\n",
      "\u001b[1;31mCPLE_AppDefinedError\u001b[0m                      Traceback (most recent call last)",
      "\u001b[1;31mCPLE_AppDefinedError\u001b[0m: TIFFReadEncodedStrip() failed.",
      "\nThe above exception was the direct cause of the following exception:\n",
      "\u001b[1;31mCPLE_AppDefinedError\u001b[0m                      Traceback (most recent call last)",
      "File \u001b[1;32mrasterio\\\\_io.pyx:969\u001b[0m, in \u001b[0;36mrasterio._io.DatasetReaderBase._read\u001b[1;34m()\u001b[0m\n",
      "File \u001b[1;32mrasterio\\\\_io.pyx:199\u001b[0m, in \u001b[0;36mrasterio._io.io_multi_band\u001b[1;34m()\u001b[0m\n",
      "File \u001b[1;32mrasterio\\\\_io.pyx:205\u001b[0m, in \u001b[0;36mrasterio._io.io_multi_band\u001b[1;34m()\u001b[0m\n",
      "File \u001b[1;32mrasterio\\\\_err.pyx:325\u001b[0m, in \u001b[0;36mrasterio._err.StackChecker.exc_wrap_int\u001b[1;34m()\u001b[0m\n",
      "\u001b[1;31mCPLE_AppDefinedError\u001b[0m: tmp_temp_idw_2019-04-21.tif, band 1: IReadBlock failed at X offset 0, Y offset 779: TIFFReadEncodedStrip() failed.",
      "\nThe above exception was the direct cause of the following exception:\n",
      "\u001b[1;31mRasterioIOError\u001b[0m                           Traceback (most recent call last)",
      "Cell \u001b[1;32mIn[2], line 156\u001b[0m\n\u001b[0;32m    153\u001b[0m     dst\u001b[38;5;241m.\u001b[39mwrite(grid_temp\u001b[38;5;241m.\u001b[39mastype(\u001b[38;5;124m'\u001b[39m\u001b[38;5;124mfloat32\u001b[39m\u001b[38;5;124m'\u001b[39m), \u001b[38;5;241m1\u001b[39m)\n\u001b[0;32m    155\u001b[0m \u001b[38;5;28;01mwith\u001b[39;00m rasterio\u001b[38;5;241m.\u001b[39mopen(tmp_path) \u001b[38;5;28;01mas\u001b[39;00m src:\n\u001b[1;32m--> 156\u001b[0m     out_image, out_transform \u001b[38;5;241m=\u001b[39m mask(src, idf_geom, crop\u001b[38;5;241m=\u001b[39m\u001b[38;5;28;01mTrue\u001b[39;00m, nodata\u001b[38;5;241m=\u001b[39mnodata_value)\n\u001b[0;32m    157\u001b[0m     out_meta \u001b[38;5;241m=\u001b[39m src\u001b[38;5;241m.\u001b[39mmeta\u001b[38;5;241m.\u001b[39mcopy()\n\u001b[0;32m    158\u001b[0m     out_meta\u001b[38;5;241m.\u001b[39mupdate({\n\u001b[0;32m    159\u001b[0m         \u001b[38;5;124m\"\u001b[39m\u001b[38;5;124mheight\u001b[39m\u001b[38;5;124m\"\u001b[39m: out_image\u001b[38;5;241m.\u001b[39mshape[\u001b[38;5;241m1\u001b[39m],\n\u001b[0;32m    160\u001b[0m         \u001b[38;5;124m\"\u001b[39m\u001b[38;5;124mwidth\u001b[39m\u001b[38;5;124m\"\u001b[39m: out_image\u001b[38;5;241m.\u001b[39mshape[\u001b[38;5;241m2\u001b[39m],\n\u001b[0;32m    161\u001b[0m         \u001b[38;5;124m\"\u001b[39m\u001b[38;5;124mtransform\u001b[39m\u001b[38;5;124m\"\u001b[39m: out_transform\n\u001b[0;32m    162\u001b[0m     })\n",
      "File \u001b[1;32mc:\\ProgramData\\anaconda3\\Lib\\site-packages\\rasterio\\mask.py:191\u001b[0m, in \u001b[0;36mmask\u001b[1;34m(dataset, shapes, all_touched, invert, nodata, filled, crop, pad, pad_width, indexes)\u001b[0m\n\u001b[0;32m    188\u001b[0m \u001b[38;5;28;01melse\u001b[39;00m:\n\u001b[0;32m    189\u001b[0m     out_shape \u001b[38;5;241m=\u001b[39m (\u001b[38;5;28mlen\u001b[39m(indexes), ) \u001b[38;5;241m+\u001b[39m shape_mask\u001b[38;5;241m.\u001b[39mshape\n\u001b[1;32m--> 191\u001b[0m out_image \u001b[38;5;241m=\u001b[39m dataset\u001b[38;5;241m.\u001b[39mread(\n\u001b[0;32m    192\u001b[0m     window\u001b[38;5;241m=\u001b[39mwindow, out_shape\u001b[38;5;241m=\u001b[39mout_shape, masked\u001b[38;5;241m=\u001b[39m\u001b[38;5;28;01mTrue\u001b[39;00m, indexes\u001b[38;5;241m=\u001b[39mindexes)\n\u001b[0;32m    194\u001b[0m out_image\u001b[38;5;241m.\u001b[39mmask \u001b[38;5;241m=\u001b[39m out_image\u001b[38;5;241m.\u001b[39mmask \u001b[38;5;241m|\u001b[39m shape_mask\n\u001b[0;32m    196\u001b[0m \u001b[38;5;28;01mif\u001b[39;00m filled:\n",
      "File \u001b[1;32mrasterio\\\\_io.pyx:644\u001b[0m, in \u001b[0;36mrasterio._io.DatasetReaderBase.read\u001b[1;34m()\u001b[0m\n",
      "File \u001b[1;32mrasterio\\\\_io.pyx:972\u001b[0m, in \u001b[0;36mrasterio._io.DatasetReaderBase._read\u001b[1;34m()\u001b[0m\n",
      "\u001b[1;31mRasterioIOError\u001b[0m: Read failed. See previous exception for details."
     ]
    }
   ],
   "source": [
    "import pandas as pd\n",
    "import numpy as np\n",
    "from scipy.spatial.distance import cdist\n",
    "import rasterio\n",
    "from rasterio.transform import from_origin\n",
    "from rasterio.mask import mask\n",
    "import geopandas as gpd\n",
    "import os\n",
    "from tqdm import tqdm\n",
    "from pyproj import Transformer\n",
    "from shapely.geometry import mapping\n",
    "import warnings\n",
    "warnings.filterwarnings('ignore')\n",
    "\n",
    "def idw_interpolation(points, values, grid_points, power=2, smoothing=0, max_distance=None, min_neighbors=3, max_neighbors=12):\n",
    "    \"\"\"\n",
    "    Interpolation par pondération inverse de la distance (IDW) améliorée\n",
    "    \"\"\"\n",
    "    distances = cdist(grid_points, points, metric='euclidean')\n",
    "    interpolated = np.full(grid_points.shape[0], np.nan)\n",
    "    \n",
    "    for i in range(grid_points.shape[0]):\n",
    "        dist_to_point = distances[i, :]\n",
    "        \n",
    "        if max_distance is not None:\n",
    "            valid_mask = dist_to_point <= max_distance\n",
    "            if not np.any(valid_mask):\n",
    "                continue\n",
    "            dist_to_point = dist_to_point[valid_mask]\n",
    "            point_values = values[valid_mask]\n",
    "        else:\n",
    "            point_values = values\n",
    "        \n",
    "        if len(dist_to_point) > max_neighbors:\n",
    "            nearest_indices = np.argsort(dist_to_point)[:max_neighbors]\n",
    "            dist_to_point = dist_to_point[nearest_indices]\n",
    "            point_values = point_values[nearest_indices]\n",
    "        \n",
    "        if len(dist_to_point) < min_neighbors:\n",
    "            continue\n",
    "        \n",
    "        dist_to_point = dist_to_point + smoothing\n",
    "        weights = 1.0 / (dist_to_point ** power)\n",
    "        weights = weights / np.sum(weights)\n",
    "        interpolated[i] = np.sum(weights * point_values)\n",
    "    \n",
    "    return interpolated\n",
    "\n",
    "def adaptive_idw_parameters(points, extent, resolution):\n",
    "    area = (extent[2] - extent[0]) * (extent[3] - extent[1])  # en m²\n",
    "    density = len(points) / (area / 1e6)  # stations par km²\n",
    "\n",
    "    if density > 5:\n",
    "        power = 2.5\n",
    "        max_distance = 15000\n",
    "        min_neighbors = 4\n",
    "        max_neighbors = 8\n",
    "    elif density > 2:\n",
    "        power = 2.0\n",
    "        max_distance = 25000\n",
    "        min_neighbors = 3\n",
    "        max_neighbors = 10\n",
    "    else:\n",
    "        power = 1.5\n",
    "        max_distance = 100000\n",
    "        min_neighbors = 2\n",
    "        max_neighbors = 20\n",
    "    \n",
    "    return power, max_distance, min_neighbors, max_neighbors\n",
    "\n",
    "\n",
    "# ===== SCRIPT PRINCIPAL =====\n",
    "\n",
    "df_temp = pd.read_csv(\"C:/temperature_ile_de_france.csv\", sep=\";\")\n",
    "df_temp[\"date\"] = pd.to_datetime(df_temp['date'])\n",
    "df_temp = df_temp[df_temp[\"date\"].dt.year.isin([2017,2019])]\n",
    "df = df_temp[(df_temp['temperature'] > -25) & (df_temp['temperature'] < 60)].copy()\n",
    "\n",
    "transformer = Transformer.from_crs(\"EPSG:4326\", \"EPSG:2154\", always_xy=True)\n",
    "df[['x', 'y']] = df.apply(lambda row: pd.Series(transformer.transform(row['longitude'], row['latitude'])), axis=1)\n",
    "\n",
    "gdf = gpd.read_file(\"data/shapefile/IDF.shp\").to_crs(\"EPSG:2154\")\n",
    "idf_geom = [mapping(geom) for geom in gdf.geometry]\n",
    "\n",
    "output_dir = \"R:/Direction_Data/0_Projets/Projet_CANCAIR/2025_Projet_Loice/temperatures_interpolated_IDW\"\n",
    "os.makedirs(output_dir, exist_ok=True)\n",
    "\n",
    "res = 50\n",
    "x_min, y_min, x_max, y_max = gdf.total_bounds\n",
    "x_coords = np.arange(x_min, x_max, res)\n",
    "y_coords = np.arange(y_min, y_max, res)\n",
    "grid_x, grid_y = np.meshgrid(x_coords, y_coords)\n",
    "grid_points = np.column_stack([grid_x.ravel(), grid_y.ravel()])\n",
    "\n",
    "unique_dates = sorted(df['date'].dt.date.unique())\n",
    "nodata_value = -9999\n",
    "\n",
    "print(f\"Traitement de {len(unique_dates)} dates avec interpolation IDW adaptative\")\n",
    "\n",
    "with tqdm(total=len(unique_dates), desc=\"Interpolation IDW\") as pbar:\n",
    "    for date in unique_dates:\n",
    "        pbar.set_description_str(f\"IDW - {date}\")\n",
    "        out_path = os.path.join(output_dir, f\"temp_idw_{date}.tif\")\n",
    "        \n",
    "        # Vérifier si le fichier existe déjà\n",
    "        if os.path.exists(out_path):\n",
    "            pbar.update(1)\n",
    "            continue\n",
    "        \n",
    "        df_day = df[df['date'].dt.date == date]\n",
    "        if len(df_day) < 2:\n",
    "            pbar.update(1)\n",
    "            continue\n",
    "\n",
    "        points = df_day[['x', 'y']].values\n",
    "        values = df_day['temperature'].values\n",
    "\n",
    "        extent = [x_min, y_min, x_max, y_max]\n",
    "        power, max_distance, min_neighbors, max_neighbors = adaptive_idw_parameters(points, extent, res)\n",
    "        \n",
    "        grid_temp_flat = idw_interpolation(\n",
    "            points=points,\n",
    "            values=values,\n",
    "            grid_points=grid_points,\n",
    "            power=power,\n",
    "            smoothing=10.0,\n",
    "            max_distance=max_distance,\n",
    "            min_neighbors=min_neighbors,\n",
    "            max_neighbors=max_neighbors\n",
    "        )\n",
    "\n",
    "        if np.isnan(grid_temp_flat).sum() > 0:\n",
    "            print(f\"Attention : {np.isnan(grid_temp_flat).sum()} points non interpolés pour la date {date}\")\n",
    "        \n",
    "        grid_temp = grid_temp_flat.reshape(grid_y.shape)\n",
    "        grid_temp = np.clip(grid_temp, -25, 60)\n",
    "        grid_temp = np.where(np.isnan(grid_temp), nodata_value, grid_temp)\n",
    "        \n",
    "        transform = from_origin(x_min, y_max, res, res)\n",
    "        \n",
    "        tmp_path = os.path.join(output_dir, f\"tmp_temp_idw_{date}.tif\")\n",
    "        \n",
    "        with rasterio.open(tmp_path, \"w\",\n",
    "                           driver=\"GTiff\",\n",
    "                           height=grid_temp.shape[0],\n",
    "                           width=grid_temp.shape[1],\n",
    "                           count=1,\n",
    "                           dtype='float32',\n",
    "                           crs=\"EPSG:2154\",\n",
    "                           transform=transform,\n",
    "                           nodata=nodata_value,\n",
    "                           compress='lzw') as dst:\n",
    "            dst.write(grid_temp.astype('float32'), 1)\n",
    "\n",
    "        with rasterio.open(tmp_path) as src:\n",
    "            out_image, out_transform = mask(src, idf_geom, crop=True, nodata=nodata_value)\n",
    "            out_meta = src.meta.copy()\n",
    "            out_meta.update({\n",
    "                \"height\": out_image.shape[1],\n",
    "                \"width\": out_image.shape[2],\n",
    "                \"transform\": out_transform\n",
    "            })\n",
    "\n",
    "        with rasterio.open(out_path, \"w\", **out_meta) as dest:\n",
    "            dest.write(out_image)\n",
    "\n",
    "        os.remove(tmp_path)\n",
    "        pbar.update(1)\n",
    "\n",
    "print(f\"Interpolation IDW terminée. Rasters sauvegardés dans : {output_dir}\")\n"
   ]
  },
  {
   "cell_type": "code",
   "execution_count": null,
   "id": "9eaee18a",
   "metadata": {},
   "outputs": [],
   "source": [
    "# ===== FONCTION BONUS : VALIDATION CROISÉE =====\n",
    "def cross_validation_idw(df_day, power=2, max_distance=25000, k_folds=5):\n",
    "    \"\"\"\n",
    "    Validation croisée pour évaluer la qualité de l'interpolation IDW\n",
    "    \"\"\"\n",
    "    from sklearn.model_selection import KFold\n",
    "    \n",
    "    points = df_day[['x', 'y']].values\n",
    "    values = df_day['temperature'].values\n",
    "    \n",
    "    kf = KFold(n_splits=k_folds, shuffle=True, random_state=42)\n",
    "    errors = []\n",
    "    \n",
    "    for train_idx, test_idx in kf.split(points):\n",
    "        train_points = points[train_idx]\n",
    "        train_values = values[train_idx]\n",
    "        test_points = points[test_idx]\n",
    "        test_values = values[test_idx]\n",
    "        \n",
    "        # Interpoler aux points de test\n",
    "        predicted = idw_interpolation(\n",
    "            train_points, train_values, test_points,\n",
    "            power=power, max_distance=max_distance\n",
    "        )\n",
    "        \n",
    "        # Calculer l'erreur\n",
    "        valid_mask = ~np.isnan(predicted)\n",
    "        if np.any(valid_mask):\n",
    "            mae = np.mean(np.abs(predicted[valid_mask] - test_values[valid_mask]))\n",
    "            errors.append(mae)\n",
    "    \n",
    "    return np.mean(errors) if errors else np.nan\n",
    "\n",
    "#Exemple d'utilisation de la validation croisée (décommenter pour tester)\n",
    "test_date = unique_dates[0]\n",
    "df_test = df[df['date'].dt.date == test_date]\n",
    "if len(df_test) >= 10:\n",
    "    mae = cross_validation_idw(df_test)\n",
    "    print(f\"Erreur moyenne absolue (validation croisée) : {mae:.2f}°C\")"
   ]
  }
 ],
 "metadata": {
  "kernelspec": {
   "display_name": "base",
   "language": "python",
   "name": "python3"
  },
  "language_info": {
   "codemirror_mode": {
    "name": "ipython",
    "version": 3
   },
   "file_extension": ".py",
   "mimetype": "text/x-python",
   "name": "python",
   "nbconvert_exporter": "python",
   "pygments_lexer": "ipython3",
   "version": "3.12.3"
  }
 },
 "nbformat": 4,
 "nbformat_minor": 5
}
